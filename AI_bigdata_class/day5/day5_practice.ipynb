{
 "cells": [
  {
   "cell_type": "code",
   "execution_count": 53,
   "metadata": {
    "collapsed": true
   },
   "outputs": [],
   "source": [
    "from bs4 import BeautifulSoup\n",
    "from urllib.request import urlopen,urlretrieve\n",
    "# urllib.request.urlopen 을 단축하기 위해 \n",
    "\n",
    "url = 'http://movie.naver.com/movie/sdb/rank/rmovie.nhn'\n",
    "\n",
    "page = urlopen(url)\n",
    "soup = BeautifulSoup(page,\"html.parser\") # page의 내요을 파서로 전달하여 html해석\n",
    "\n"
   ]
  },
  {
   "cell_type": "code",
   "execution_count": 101,
   "metadata": {
    "collapsed": true
   },
   "outputs": [
    {
     "name": "stdout",
     "output_type": "stream",
     "text": [
      "None\n#header\n#content\n#\nhttp://www.naver.com/\n/\n/\n/movie/running/current.nhn\n/movie/running/current.nhn\n/movie/running/premovie.nhn\n/movie/running/weekendmovie.nhn\n/movie/running/movieclip.nhn\n/movie/sdb/rank/rmovie.nhn\n/movie/sdb/rank/rmovie.nhn\n/movie/sdb/browsing/bmovie_nation.nhn\n/movie/bi/mi/reserve.nhn\nhttp://ticket.movie.naver.com/Ticket/Reserve.aspx\nhttp://ticket.movie.naver.com/Order/OrderList.aspx\nhttp://ticket.movie.naver.com/Coupon/Ticket.aspx\nhttp://ticket.movie.naver.com/Discount/DiscountCard.aspx\nhttp://help.naver.com/ops/step2/faq.nhn?parentId=77&depth=2\n/movie/point/af/list.nhn\n/movie/point/af/list.nhn\n/movie/board/review/list.nhn\n/movie/poll/naver/list.nhn\nhttp://nstore.naver.com/movie/home.nhn\nhttp://tv.naver.com/indiecinema\n/movie/sdb/rank/rmovie.nhn\n/movie/sdb/rank/rpeople.nhn\n/movie/sdb/rank/rreserve.nhn\n/movie/sdb/rank/rboxoffice.nhn\nrmovie.nhn?sel=cnt&date=20190110\nrmovie.nhn?sel=cur&date=20190110\nrmovie.nhn?sel=pnt&date=20190110\nrmovie.nhn?sel=cnt&tg=0&date=20190109\n/movie/bi/mi/basic.nhn?code=152632\n/movie/bi/mi/basic.nhn?code=151153\n/movie/bi/mi/basic.nhn?code=167699\n/movie/bi/mi/basic.nhn?code=166092\n/movie/bi/mi/basic.nhn?code=152344\n/movie/bi/mi/basic.nhn?code=156464\n/movie/bi/mi/basic.nhn?code=164172\n/movie/bi/mi/basic.nhn?code=164139\n/movie/bi/mi/basic.nhn?code=157297\n/movie/bi/mi/basic.nhn?code=164101\n/movie/bi/mi/basic.nhn?code=180278\n/movie/bi/mi/basic.nhn?code=171539\n/movie/bi/mi/basic.nhn?code=163826\n/movie/bi/mi/basic.nhn?code=181030\n/movie/bi/mi/basic.nhn?code=144987\n/movie/bi/mi/basic.nhn?code=167481\n/movie/bi/mi/basic.nhn?code=180379\n/movie/bi/mi/basic.nhn?code=167651\n/movie/bi/mi/basic.nhn?code=171725\n/movie/bi/mi/basic.nhn?code=164192\n/movie/bi/mi/basic.nhn?code=167638\n/movie/bi/mi/basic.nhn?code=164102\n/movie/bi/mi/basic.nhn?code=142266\n/movie/bi/mi/basic.nhn?code=164117\n/movie/bi/mi/basic.nhn?code=171755\n/movie/bi/mi/basic.nhn?code=178097\n/movie/bi/mi/basic.nhn?code=172975\n/movie/bi/mi/basic.nhn?code=136900\n/movie/bi/mi/basic.nhn?code=180372\n/movie/bi/mi/basic.nhn?code=151747\n/movie/bi/mi/basic.nhn?code=168019\n/movie/bi/mi/basic.nhn?code=171475\n/movie/bi/mi/basic.nhn?code=168043\n/movie/bi/mi/basic.nhn?code=181539\n/movie/bi/mi/basic.nhn?code=164173\n/movie/bi/mi/basic.nhn?code=150688\n/movie/bi/mi/basic.nhn?code=66728\n/movie/bi/mi/basic.nhn?code=92125\n/movie/bi/mi/basic.nhn?code=174835\n/movie/bi/mi/basic.nhn?code=132623\n/movie/bi/mi/basic.nhn?code=172137\n/movie/bi/mi/basic.nhn?code=144906\n/movie/bi/mi/basic.nhn?code=173840\n/movie/bi/mi/basic.nhn?code=156496\n/movie/bi/mi/basic.nhn?code=144927\n/movie/bi/mi/basic.nhn?code=87307\n/movie/bi/mi/basic.nhn?code=179694\n/movie/bi/mi/basic.nhn?code=154258\n/movie/bi/mi/basic.nhn?code=172187\n/movie/bi/mi/basic.nhn?code=166610\n#gnb_top\n/movie/bi/mi/basic.nhn?code=152632\n/movie/bi/mi/basic.nhn?code=151153\n/movie/bi/mi/basic.nhn?code=167699\n/movie/bi/mi/basic.nhn?code=166092\n/movie/bi/mi/basic.nhn?code=152344\n/movie/sdb/rank/rmovie.nhn\n/movie/bi/pi/basic.nhn?st=1&code=80780\n/movie/bi/pi/basic.nhn?st=1&code=113530\n/movie/bi/pi/basic.nhn?st=1&code=51993\n/movie/bi/pi/basic.nhn?st=1&code=81371\n/movie/bi/pi/basic.nhn?st=1&code=43284\n/movie/sdb/rank/rpeople.nhn\n/movie/bi/mi/basic.nhn?code=167699\n/movie/bi/mi/basic.nhn?code=180372\n/movie/bi/mi/basic.nhn?code=152632\n/movie/bi/mi/basic.nhn?code=164172\n/movie/bi/mi/basic.nhn?code=151153\n/movie/sdb/rank/rreserve.nhn\n/movie/bi/mi/basic.nhn?code=152632\n/movie/bi/mi/basic.nhn?code=151153\n/movie/bi/mi/basic.nhn?code=156464\n/movie/bi/mi/basic.nhn?code=166092\n/movie/bi/mi/basic.nhn?code=164139\n/movie/sdb/rank/rboxoffice.nhn\nhttp://www.naver.com/rules/service.html\nhttp://www.naver.com/rules/privacy.html\nhttp://www.naver.com/rules/disclaimer.html\nhttps://help.naver.com/support/service/main.nhn?serviceNo=800\nhttp://www.ftc.go.kr/info/bizinfo/communicationList.jsp\nhttp://www.navercorp.com\nhttp://www.navercorp.com\n"
     ]
    }
   ],
   "source": [
    "datas = soup.find_all(\"a\")\n",
    "for data in datas:\n",
    "    print(data.get('href'))"
   ]
  },
  {
   "cell_type": "code",
   "execution_count": 85,
   "metadata": {
    "collapsed": false
   },
   "outputs": [
    {
     "name": "stdout",
     "output_type": "stream",
     "text": [
      "None\n#header\n#content\n#\nhttp://www.naver.com/\n/\n/\n/movie/running/current.nhn\n/movie/running/current.nhn\n/movie/running/premovie.nhn\n/movie/running/weekendmovie.nhn\n/movie/running/movieclip.nhn\n/movie/sdb/rank/rmovie.nhn\n/movie/sdb/rank/rmovie.nhn\n/movie/sdb/browsing/bmovie_nation.nhn\n/movie/bi/mi/reserve.nhn\nhttp://ticket.movie.naver.com/Ticket/Reserve.aspx\nhttp://ticket.movie.naver.com/Order/OrderList.aspx\nhttp://ticket.movie.naver.com/Coupon/Ticket.aspx\nhttp://ticket.movie.naver.com/Discount/DiscountCard.aspx\nhttp://help.naver.com/ops/step2/faq.nhn?parentId=77&depth=2\n/movie/point/af/list.nhn\n/movie/point/af/list.nhn\n/movie/board/review/list.nhn\n/movie/poll/naver/list.nhn\nhttp://nstore.naver.com/movie/home.nhn\nhttp://tv.naver.com/indiecinema\n/movie/sdb/rank/rmovie.nhn\n/movie/sdb/rank/rpeople.nhn\n/movie/sdb/rank/rreserve.nhn\n/movie/sdb/rank/rboxoffice.nhn\nrmovie.nhn?sel=cnt&date=20190110\nrmovie.nhn?sel=cur&date=20190110\nrmovie.nhn?sel=pnt&date=20190110\nrmovie.nhn?sel=cnt&tg=0&date=20190109\n/movie/bi/mi/basic.nhn?code=152632\n/movie/bi/mi/basic.nhn?code=151153\n/movie/bi/mi/basic.nhn?code=167699\n/movie/bi/mi/basic.nhn?code=166092\n/movie/bi/mi/basic.nhn?code=152344\n/movie/bi/mi/basic.nhn?code=156464\n/movie/bi/mi/basic.nhn?code=164172\n/movie/bi/mi/basic.nhn?code=164139\n/movie/bi/mi/basic.nhn?code=157297\n/movie/bi/mi/basic.nhn?code=164101\n/movie/bi/mi/basic.nhn?code=180278\n/movie/bi/mi/basic.nhn?code=171539\n/movie/bi/mi/basic.nhn?code=163826\n/movie/bi/mi/basic.nhn?code=181030\n/movie/bi/mi/basic.nhn?code=144987\n/movie/bi/mi/basic.nhn?code=167481\n/movie/bi/mi/basic.nhn?code=180379\n/movie/bi/mi/basic.nhn?code=167651\n/movie/bi/mi/basic.nhn?code=171725\n/movie/bi/mi/basic.nhn?code=164192\n/movie/bi/mi/basic.nhn?code=167638\n/movie/bi/mi/basic.nhn?code=164102\n/movie/bi/mi/basic.nhn?code=142266\n/movie/bi/mi/basic.nhn?code=164117\n/movie/bi/mi/basic.nhn?code=171755\n/movie/bi/mi/basic.nhn?code=178097\n/movie/bi/mi/basic.nhn?code=172975\n/movie/bi/mi/basic.nhn?code=136900\n/movie/bi/mi/basic.nhn?code=180372\n/movie/bi/mi/basic.nhn?code=151747\n/movie/bi/mi/basic.nhn?code=168019\n/movie/bi/mi/basic.nhn?code=171475\n/movie/bi/mi/basic.nhn?code=168043\n/movie/bi/mi/basic.nhn?code=181539\n/movie/bi/mi/basic.nhn?code=164173\n/movie/bi/mi/basic.nhn?code=150688\n/movie/bi/mi/basic.nhn?code=66728\n/movie/bi/mi/basic.nhn?code=92125\n/movie/bi/mi/basic.nhn?code=174835\n/movie/bi/mi/basic.nhn?code=132623\n/movie/bi/mi/basic.nhn?code=172137\n/movie/bi/mi/basic.nhn?code=144906\n/movie/bi/mi/basic.nhn?code=173840\n/movie/bi/mi/basic.nhn?code=156496\n/movie/bi/mi/basic.nhn?code=144927\n/movie/bi/mi/basic.nhn?code=87307\n/movie/bi/mi/basic.nhn?code=179694\n/movie/bi/mi/basic.nhn?code=154258\n/movie/bi/mi/basic.nhn?code=172187\n/movie/bi/mi/basic.nhn?code=166610\n#gnb_top\n/movie/bi/mi/basic.nhn?code=152632\n/movie/bi/mi/basic.nhn?code=151153\n/movie/bi/mi/basic.nhn?code=167699\n/movie/bi/mi/basic.nhn?code=166092\n/movie/bi/mi/basic.nhn?code=152344\n/movie/sdb/rank/rmovie.nhn\n/movie/bi/pi/basic.nhn?st=1&code=80780\n/movie/bi/pi/basic.nhn?st=1&code=113530\n/movie/bi/pi/basic.nhn?st=1&code=51993\n/movie/bi/pi/basic.nhn?st=1&code=81371\n/movie/bi/pi/basic.nhn?st=1&code=43284\n/movie/sdb/rank/rpeople.nhn\n/movie/bi/mi/basic.nhn?code=167699\n/movie/bi/mi/basic.nhn?code=180372\n/movie/bi/mi/basic.nhn?code=152632\n/movie/bi/mi/basic.nhn?code=164172\n/movie/bi/mi/basic.nhn?code=151153\n/movie/sdb/rank/rreserve.nhn\n/movie/bi/mi/basic.nhn?code=152632\n/movie/bi/mi/basic.nhn?code=151153\n/movie/bi/mi/basic.nhn?code=156464\n/movie/bi/mi/basic.nhn?code=166092\n/movie/bi/mi/basic.nhn?code=164139\n/movie/sdb/rank/rboxoffice.nhn\nhttp://www.naver.com/rules/service.html\nhttp://www.naver.com/rules/privacy.html\nhttp://www.naver.com/rules/disclaimer.html\nhttps://help.naver.com/support/service/main.nhn?serviceNo=800\nhttp://www.ftc.go.kr/info/bizinfo/communicationList.jsp\nhttp://www.navercorp.com\nhttp://www.navercorp.com\n"
     ]
    }
   ],
   "source": [
    "aList = soup.find_all('a')\n",
    "for aTag in aList:\n",
    "    print(aTag.get('href'))"
   ]
  },
  {
   "cell_type": "code",
   "execution_count": 10,
   "metadata": {},
   "outputs": [],
   "source": [
    "page = '''\n",
    "<html>\n",
    "<head>\n",
    "<title>제목</title>\n",
    "</head>\n",
    "<body>\n",
    "<h1>제목1</h1>\n",
    "<p>내용1</p>\n",
    "<h1>제목2</h1>\n",
    "<p>내용2</p>\n",
    "</body>\n",
    "</html>\n",
    "'''\n",
    "soup = BeautifulSoup(page,\"html.parser\")"
   ]
  },
  {
   "cell_type": "code",
   "execution_count": 11,
   "metadata": {},
   "outputs": [
    {
     "data": {
      "text/plain": [
       "<title>제목</title>"
      ]
     },
     "execution_count": 11,
     "metadata": {},
     "output_type": "execute_result"
    }
   ],
   "source": [
    "soup.html.head.title"
   ]
  },
  {
   "cell_type": "code",
   "execution_count": 13,
   "metadata": {},
   "outputs": [
    {
     "data": {
      "text/plain": [
       "'제목'"
      ]
     },
     "execution_count": 13,
     "metadata": {},
     "output_type": "execute_result"
    }
   ],
   "source": [
    "soup.title.text"
   ]
  },
  {
   "cell_type": "code",
   "execution_count": 14,
   "metadata": {},
   "outputs": [
    {
     "data": {
      "text/plain": [
       "<h1>제목1</h1>"
      ]
     },
     "execution_count": 14,
     "metadata": {},
     "output_type": "execute_result"
    }
   ],
   "source": [
    "soup.h1"
   ]
  },
  {
   "cell_type": "code",
   "execution_count": 18,
   "metadata": {
    "collapsed": false
   },
   "outputs": [
    {
     "name": "stdout",
     "output_type": "stream",
     "text": [
      "제목1\n제목2\n"
     ]
    }
   ],
   "source": [
    "# find, find_all() , # 다가지고 오고 싶으면 find_all()\n",
    "# get_text()는 마지막에 쓰는게 좋다. - 다 걸러내고 \n",
    "soup = BeautifulSoup(page,\"html.parser\")\n",
    "tList = soup.find_all(\"h1\")\n",
    "for title in tList:\n",
    "    print(title.get_text())\n"
   ]
  },
  {
   "cell_type": "code",
   "execution_count": 20,
   "metadata": {},
   "outputs": [],
   "source": [
    "html_doc = \"\"\"\n",
    "<html><head><title>The Dormouse's story</title></head>\n",
    "<body>\n",
    "<p class=\"title\"><b>The Dormouse's story</b></p>\n",
    "<p class=\"story\">Once upon a time there were three little sisters; and their names were\n",
    "<a href=\"http://example.com/elsie\" class=\"sister\" id=\"link1\">Elsie</a>,\n",
    "<a href=\"http://example.com/lacie\" class=\"sister\" id=\"link2\">Lacie</a> and\n",
    "<a href=\"http://example.com/tillie\" class=\"sister\" id=\"link3\">Tillie</a>;\n",
    "and they lived at the bottom of a well.</p>\n",
    "<p class=\"story\">...</p>\n",
    "</body>\n",
    "</html>\n",
    "\"\"\"\n",
    "soup = BeautifulSoup(html_doc,\"html.parser\")"
   ]
  },
  {
   "cell_type": "code",
   "execution_count": 26,
   "metadata": {},
   "outputs": [
    {
     "data": {
      "text/plain": [
       "[<a class=\"sister\" href=\"http://example.com/lacie\" id=\"link2\">Lacie</a>,\n <a class=\"sister\" href=\"http://example.com/tillie\" id=\"link3\">Tillie</a>]"
      ]
     },
     "execution_count": 26,
     "metadata": {},
     "output_type": "execute_result"
    }
   ],
   "source": [
    "soup.find_all(\"a\", id=('link2','link3'))\n",
    "# \n",
    "# soup.find_all(\"a\", {id:{'link2'}})\n",
    "# \n",
    "# soup.find_all(\"a\", attrs = {id:'link2'})"
   ]
  },
  {
   "cell_type": "code",
   "execution_count": 89,
   "metadata": {
    "collapsed": true
   },
   "outputs": [
    {
     "name": "stdout",
     "output_type": "stream",
     "text": [
      "[<a name=\"gnb_top\"></a>, <a href=\"#header\" onclick=\"document.getElementById('header').tabIndex=-1;document.getElementById('header').focus();return false;\"><span>메인 메뉴로 바로가기</span></a>, <a href=\"#content\" id=\"gnb_goContent\" onclick=\"document.getElementById('content').tabIndex=-1;document.getElementById('content').focus();return false;\"><span>본문으로 바로가기</span></a>, <a href=\"#\" title=\"자동완성 펼치기\"><img alt=\"자동완성 펼치기\" height=\"4\" src=\"https://ssl.pstatic.net/static/movie/2012/06/srch_arrow_down.gif\" title=\"자동완성 펼치기\" width=\"7\"/></a>, <a class=\"ci_logo\" href=\"http://www.naver.com/\" id=\"lnb_gonaver\" onclick=\"clickcr(this, 'LNB.naver', '', '', event);\" title=\"naver로 바로가기\"><img alt=\"NAVER\" height=\"13\" src=\"https://ssl.pstatic.net/static/movie/2013/07/logo_ci.png\" width=\"62\"/></a>, <a class=\"svc_logo\" href=\"/\" onclick=\"clickcr(this, 'LNB.movie', '', '', event);\" title=\"영화서비스홈으로 바로가기\"><img alt=\"영화\" height=\"19\" src=\"https://ssl.pstatic.net/static/movie/2012/06/logo_svc.png\" width=\"34\"/></a>, <a class=\"menu01\" href=\"/\" onclick=\"clickcr(this, 'LNB.home', '', '', event);\" title=\"영화홈\"><strong>영화홈</strong></a>, <a class=\"menu02\" href=\"/movie/running/current.nhn\" onclick=\"clickcr(this, 'LNB.movies', '', '', event);\" title=\"상영작·예정작\"><strong>상영작·예정작</strong></a>, <a class=\"sub2_1\" href=\"/movie/running/current.nhn\" onclick=\"clickcr(this, 'LNB.now', '', '', event);\" title=\"현재 상영영화\"><em>현재 상영영화</em></a>, <a class=\"sub2_2\" href=\"/movie/running/premovie.nhn\" onclick=\"clickcr(this, 'LNB.soon', '', '', event);\" title=\"개봉 예정영화\"><em>개봉 예정영화</em></a>, <a class=\"sub2_3\" href=\"/movie/running/weekendmovie.nhn\" onclick=\"clickcr(this, 'LNB.guide', '', '', event);\" title=\"TV/DVD 영화\"><em>TV/DVD 영화</em></a>, <a class=\"sub2_4\" href=\"/movie/running/movieclip.nhn\" onclick=\"clickcr(this, 'LNB.tailer', '', '', event);\" title=\"예고편\"><em>예고편</em></a>, <a class=\"menu03_on\" href=\"/movie/sdb/rank/rmovie.nhn\" onclick=\"clickcr(this, 'LNB.db', '', '', event);\" title=\"영화랭킹\"><strong>영화랭킹</strong></a>, <a class=\"sub3_1_on\" href=\"/movie/sdb/rank/rmovie.nhn\" onclick=\"clickcr(this, 'LNB.rank', '', '', event);\" title=\"랭킹\"><em>랭킹</em></a>, <a class=\"sub3_2\" href=\"/movie/sdb/browsing/bmovie_nation.nhn\" onclick=\"clickcr(this, 'LNB.dir', '', '', event);\" title=\"디렉토리\"><em>디렉토리</em></a>, <a class=\"menu05\" href=\"/movie/bi/mi/reserve.nhn\" onclick=\"clickcr(this, 'LNB.ticket', '', '', event);\" title=\"예매\"><strong>예매</strong></a>, <a class=\"sub5_1\" href=\"http://ticket.movie.naver.com/Ticket/Reserve.aspx\" onclick=\"clickcr(this, 'LNB.buy', '', '', event);\" title=\"예매하기\"><em>예매하기</em></a>, <a class=\"sub5_2\" href=\"http://ticket.movie.naver.com/Order/OrderList.aspx\" onclick=\"clickcr(this, 'LNB.check', '', '', event);\" title=\"예매확인·취소\"><em>예매확인·취소</em></a>, <a class=\"sub5_3\" href=\"http://ticket.movie.naver.com/Coupon/Ticket.aspx\" onclick=\"clickcr(this, 'LNB.disticket', '', '', event);\" title=\"예매권·할인권 등록\"><em>예매권·할인권 등록</em></a>, <a class=\"sub5_4\" href=\"http://ticket.movie.naver.com/Discount/DiscountCard.aspx\" onclick=\"clickcr(this, 'LNB.discard', '', '', event);\" title=\"할인카드안내·등록\"><em>할인카드안내·등록</em></a>, <a class=\"sub5_5\" href=\"http://help.naver.com/ops/step2/faq.nhn?parentId=77&amp;depth=2\" onclick=\"clickcr(this, 'LNB.service', '', '', event);\" target=\"_blank\" title=\"이용안내\"><em>이용안내</em></a>, <a class=\"menu07\" href=\"/movie/point/af/list.nhn\" onclick=\"clickcr(this, 'LNB.comm', '', '', event);\" title=\"평점·리뷰\"><strong>평점·리뷰</strong></a>, <a class=\"sub7_1\" href=\"/movie/point/af/list.nhn\" onclick=\"clickcr(this, 'LNB.rating', '', '', event);\" title=\"네티즌 평점\"><em>네티즌 평점</em></a>, <a class=\"sub7_2\" href=\"/movie/board/review/list.nhn\" onclick=\"clickcr(this, 'LNB.review', '', '', event);\" title=\"네티즌 리뷰\"><em>네티즌 리뷰</em></a>, <a class=\"sub7_3\" href=\"/movie/poll/naver/list.nhn\" onclick=\"clickcr(this, 'LNB.poll', '', '', event);\" title=\"폴 매니아\"><em>폴 매니아</em></a>, <a class=\"menu08\" href=\"http://nstore.naver.com/movie/home.nhn\" onclick=\"clickcr(this, 'LNB.download', '', '', event);\" target=\"_blank\" title=\"다운로드\"><strong>다운로드</strong></a>, <a href=\"http://tv.naver.com/indiecinema\" target=\"_blank\" title=\"인디극장 UP\"><strong>인디극장 UP</strong></a>, <a class=\"db_tab01_on\" href=\"/movie/sdb/rank/rmovie.nhn\" title=\"영화\"><em>영화</em></a>, <a class=\"db_tab02\" href=\"/movie/sdb/rank/rpeople.nhn\" title=\"영화인\"><em>영화인</em></a>, <a class=\"db_tab07\" href=\"/movie/sdb/rank/rreserve.nhn\" title=\"예매\"><em>예매</em></a>, <a class=\"db_tab08\" href=\"/movie/sdb/rank/rboxoffice.nhn\" title=\"박스오피스\"><em>박스오피스</em></a>, <a href=\"rmovie.nhn?sel=cnt&amp;date=20190110\"><img alt=\"조회순\" height=\"28\" src=\"https://ssl.pstatic.net/imgmovie/2007/img/super_db/tab_movie_1_on.gif\" width=\"112\"/></a>, <a href=\"rmovie.nhn?sel=cur&amp;date=20190110\"><img alt=\"평점순(현재상영영화)\" height=\"28\" src=\"https://ssl.pstatic.net/imgmovie/2007/img/super_db/tab_movie_2_off.gif\" width=\"126\"/></a>, <a href=\"rmovie.nhn?sel=pnt&amp;date=20190110\"><img alt=\"평점순(모든영화)\" height=\"28\" src=\"https://ssl.pstatic.net/imgmovie/2007/img/super_db/tab_movie_3_off.gif\" width=\"126\"/></a>, <a href=\"rmovie.nhn?sel=cnt&amp;tg=0&amp;date=20190109\"><img alt=\"prev\" height=\"13\" src=\"https://ssl.pstatic.net/imgmovie/2007/img/common/btn_prev.gif\" style=\"margin-right:1px;\" width=\"13\"/></a>, <a href=\"/movie/bi/mi/basic.nhn?code=152632\" title=\"주먹왕 랄프 2: 인터넷 속으로\">주먹왕 랄프 2: 인터넷 속으로</a>, <a href=\"/movie/bi/mi/basic.nhn?code=151153\" title=\"아쿠아맨\">아쿠아맨</a>, <a href=\"/movie/bi/mi/basic.nhn?code=167699\" title=\"말모이\">말모이</a>, <a href=\"/movie/bi/mi/basic.nhn?code=166092\" title=\"PMC: 더 벙커\">PMC: 더 벙커</a>, <a href=\"/movie/bi/mi/basic.nhn?code=152344\" title=\"언니\">언니</a>, <a href=\"/movie/bi/mi/basic.nhn?code=156464\" title=\"보헤미안 랩소디\">보헤미안 랩소디</a>, <a href=\"/movie/bi/mi/basic.nhn?code=164172\" title=\"내안의 그놈\">내안의 그놈</a>, <a href=\"/movie/bi/mi/basic.nhn?code=164139\" title=\"범블비\">범블비</a>, <a href=\"/movie/bi/mi/basic.nhn?code=157297\" title=\"마약왕\">마약왕</a>, <a href=\"/movie/bi/mi/basic.nhn?code=164101\" title=\"스윙키즈\">스윙키즈</a>, <a href=\"/movie/bi/mi/basic.nhn?code=180278\" title=\"새엄마 3\">새엄마 3</a>, <a href=\"/movie/bi/mi/basic.nhn?code=171539\" title=\"그린 북\">그린 북</a>, <a href=\"/movie/bi/mi/basic.nhn?code=163826\" title=\"글래스\">글래스</a>, <a href=\"/movie/bi/mi/basic.nhn?code=181030\" title=\"데드풀2: 순한 맛\">데드풀2: 순한 맛</a>, <a href=\"/movie/bi/mi/basic.nhn?code=144987\" title=\"빌리어네어 보이즈클럽\">빌리어네어 보이즈클럽</a>, <a href=\"/movie/bi/mi/basic.nhn?code=167481\" title=\"액슬\">액슬</a>, <a href=\"/movie/bi/mi/basic.nhn?code=180379\" title=\"점박이 한반도의 공룡2 : 새로운 낙원\">점박이 한반도의 공룡2 : 새로운 낙원</a>, <a href=\"/movie/bi/mi/basic.nhn?code=167651\" title=\"극한직업\">극한직업</a>, <a href=\"/movie/bi/mi/basic.nhn?code=171725\" title=\"스파이더맨: 뉴 유니버스\">스파이더맨: 뉴 유니버스</a>, <a href=\"/movie/bi/mi/basic.nhn?code=164192\" title=\"국가부도의 날\">국가부도의 날</a>, <a href=\"/movie/bi/mi/basic.nhn?code=167638\" title=\"완벽한 타인\">완벽한 타인</a>, <a href=\"/movie/bi/mi/basic.nhn?code=164102\" title=\"영주\">영주</a>, <a href=\"/movie/bi/mi/basic.nhn?code=142266\" title=\"그대 이름은 장미\">그대 이름은 장미</a>, <a href=\"/movie/bi/mi/basic.nhn?code=164117\" title=\"무쌍\">무쌍</a>, <a href=\"/movie/bi/mi/basic.nhn?code=171755\" title=\"도어락\">도어락</a>, <a href=\"/movie/bi/mi/basic.nhn?code=178097\" title=\"로마\">로마</a>, <a href=\"/movie/bi/mi/basic.nhn?code=172975\" title=\"극장판 짱구는 못말려: 아뵤! 쿵후 보이즈 ~라면 대란~\">극장판 짱구는 못말려: 아뵤! 쿵후 보이즈 ~라면 대란~</a>, <a href=\"/movie/bi/mi/basic.nhn?code=136900\" title=\"어벤져스: 엔드게임\">어벤져스: 엔드게임</a>, <a href=\"/movie/bi/mi/basic.nhn?code=180372\" title=\"극장판 공룡메카드: 타이니소어의 섬\">극장판 공룡메카드: 타이니소어의 섬</a>, <a href=\"/movie/bi/mi/basic.nhn?code=151747\" title=\"쿠르스크\">쿠르스크</a>, <a href=\"/movie/bi/mi/basic.nhn?code=168019\" title=\"리지\">리지</a>, <a href=\"/movie/bi/mi/basic.nhn?code=171475\" title=\"버드 박스\">버드 박스</a>, <a href=\"/movie/bi/mi/basic.nhn?code=168043\" title=\"왕이 될 아이\">왕이 될 아이</a>, <a href=\"/movie/bi/mi/basic.nhn?code=181539\" title=\"등산의 참맛\">등산의 참맛</a>, <a href=\"/movie/bi/mi/basic.nhn?code=164173\" title=\"뺑반\">뺑반</a>, <a href=\"/movie/bi/mi/basic.nhn?code=150688\" title=\"그린치\">그린치</a>, <a href=\"/movie/bi/mi/basic.nhn?code=66728\" title=\"알리타: 배틀 엔젤\">알리타: 배틀 엔젤</a>, <a href=\"/movie/bi/mi/basic.nhn?code=92125\" title=\"헌터 킬러\">헌터 킬러</a>, <a href=\"/movie/bi/mi/basic.nhn?code=174835\" title=\"성난황소\">성난황소</a>, <a href=\"/movie/bi/mi/basic.nhn?code=132623\" title=\"캡틴 마블\">캡틴 마블</a>, <a href=\"/movie/bi/mi/basic.nhn?code=172137\" title=\"미래의 미라이\">미래의 미라이</a>, <a href=\"/movie/bi/mi/basic.nhn?code=144906\" title=\"베일리 어게인\">베일리 어게인</a>, <a href=\"/movie/bi/mi/basic.nhn?code=173840\" title=\"레토\">레토</a>, <a href=\"/movie/bi/mi/basic.nhn?code=156496\" title=\"모털 엔진\">모털 엔진</a>, <a href=\"/movie/bi/mi/basic.nhn?code=144927\" title=\"23 아이덴티티\">23 아이덴티티</a>, <a href=\"/movie/bi/mi/basic.nhn?code=87307\" title=\"주먹왕 랄프\">주먹왕 랄프</a>, <a href=\"/movie/bi/mi/basic.nhn?code=179694\" title=\"인생 후르츠\">인생 후르츠</a>, <a href=\"/movie/bi/mi/basic.nhn?code=154258\" title=\"키퍼스\">키퍼스</a>, <a href=\"/movie/bi/mi/basic.nhn?code=172187\" title=\"극장판 포켓몬스터 모두의 이야기\">극장판 포켓몬스터 모두의 이야기</a>, <a href=\"/movie/bi/mi/basic.nhn?code=166610\" title=\"동네사람들\">동네사람들</a>, <a href=\"#gnb_top\"><img alt=\"TOP\" height=\"11\" src=\"https://ssl.pstatic.net/imgmovie/2007/img/common/btn_top.gif\" width=\"30\"/></a>, <a class=\"b\" href=\"/movie/bi/mi/basic.nhn?code=152632\" onclick=\"clickcr(this,'pop.list','152632','1',event);\" title=\"주먹왕 랄프 2: 인터넷 속으로\"><span class=\"blind\">1위</span>주먹왕 랄프 2: 인..</a>, <a href=\"/movie/bi/mi/basic.nhn?code=151153\" onclick=\"clickcr(this,'pop.list','151153','2',event);\" title=\"아쿠아맨\"><span class=\"blind\">2위</span>아쿠아맨</a>, <a href=\"/movie/bi/mi/basic.nhn?code=167699\" onclick=\"clickcr(this,'pop.list','167699','3',event);\" title=\"말모이\"><span class=\"blind\">3위</span>말모이</a>, <a href=\"/movie/bi/mi/basic.nhn?code=166092\" onclick=\"clickcr(this,'pop.list','166092','4',event);\" title=\"PMC: 더 벙커\"><span class=\"blind\">4위</span>PMC: 더 벙커</a>, <a href=\"/movie/bi/mi/basic.nhn?code=152344\" onclick=\"clickcr(this,'pop.list','152344','5',event);\" title=\"언니\"><span class=\"blind\">5위</span>언니</a>, <a class=\"more\" href=\"/movie/sdb/rank/rmovie.nhn\" onclick=\"clickcr(this,'pop.more','','',event);\">더보기</a>, <a class=\"b\" href=\"/movie/bi/pi/basic.nhn?st=1&amp;code=80780\" onclick=\"clickcr(this,'peo.list','80780','1',event);\" title=\"앰버 허드\"><span class=\"blind\">1위</span>앰버 허드</a>, <a href=\"/movie/bi/pi/basic.nhn?st=1&amp;code=113530\" onclick=\"clickcr(this,'peo.list','113530','2',event);\" title=\"라미 말렉\"><span class=\"blind\">2위</span>라미 말렉</a>, <a href=\"/movie/bi/pi/basic.nhn?st=1&amp;code=51993\" onclick=\"clickcr(this,'peo.list','51993','3',event);\" title=\"제임스 완\"><span class=\"blind\">3위</span>제임스 완</a>, <a href=\"/movie/bi/pi/basic.nhn?st=1&amp;code=81371\" onclick=\"clickcr(this,'peo.list','81371','4',event);\" title=\"제이슨 모모아\"><span class=\"blind\">4위</span>제이슨 모모아</a>, <a href=\"/movie/bi/pi/basic.nhn?st=1&amp;code=43284\" onclick=\"clickcr(this,'peo.list','43284','5',event);\" title=\"마동석\"><span class=\"blind\">5위</span>마동석</a>, <a class=\"more\" href=\"/movie/sdb/rank/rpeople.nhn\" onclick=\"clickcr(this,'peo.more','','',event);\">더보기</a>, <a class=\"b\" href=\"/movie/bi/mi/basic.nhn?code=167699\" onclick=\"clickcr(this,'tck.list','167699','1',event);\" title=\"말모이\"><span class=\"blind\">1위</span>말모이</a>, <a href=\"/movie/bi/mi/basic.nhn?code=180372\" onclick=\"clickcr(this,'tck.list','180372','2',event);\" title=\"극장판 공룡메카드: 타이니소어의 섬\"><span class=\"blind\">2위</span>극장판 공룡메카드:..</a>, <a href=\"/movie/bi/mi/basic.nhn?code=152632\" onclick=\"clickcr(this,'tck.list','152632','3',event);\" title=\"주먹왕 랄프 2: 인터넷 속으로\"><span class=\"blind\">3위</span>주먹왕 랄프 2: 인..</a>, <a href=\"/movie/bi/mi/basic.nhn?code=164172\" onclick=\"clickcr(this,'tck.list','164172','4',event);\" title=\"내안의 그놈\"><span class=\"blind\">4위</span>내안의 그놈</a>, <a href=\"/movie/bi/mi/basic.nhn?code=151153\" onclick=\"clickcr(this,'tck.list','151153','5',event);\" title=\"아쿠아맨\"><span class=\"blind\">5위</span>아쿠아맨</a>, <a class=\"more\" href=\"/movie/sdb/rank/rreserve.nhn\" id=\"ticketRankLink\" onclick=\"clickcr(this,'tck.more','','',event);\">더보기</a>, <a class=\"b\" href=\"/movie/bi/mi/basic.nhn?code=152632\" onclick=\"clickcr(this,'box.list','152632','1',event);\" title=\"주먹왕 랄프 2: 인터넷 속으로\"><span class=\"blind\">1위</span>주먹왕 랄프 2: 인터넷 속으로</a>, <a href=\"/movie/bi/mi/basic.nhn?code=151153\" onclick=\"clickcr(this,'box.list','151153','2',event);\" title=\"아쿠아맨\"><span class=\"blind\">2위</span>아쿠아맨</a>, <a href=\"/movie/bi/mi/basic.nhn?code=156464\" onclick=\"clickcr(this,'box.list','156464','3',event);\" title=\"보헤미안 랩소디\"><span class=\"blind\">3위</span>보헤미안 랩소디</a>, <a href=\"/movie/bi/mi/basic.nhn?code=166092\" onclick=\"clickcr(this,'box.list','166092','4',event);\" title=\"PMC: 더 벙커\"><span class=\"blind\">4위</span>PMC: 더 벙커</a>, <a href=\"/movie/bi/mi/basic.nhn?code=164139\" onclick=\"clickcr(this,'box.list','164139','5',event);\" title=\"범블비\"><span class=\"blind\">5위</span>범블비</a>, <a class=\"more\" href=\"/movie/sdb/rank/rboxoffice.nhn\" onclick=\"clickcr(this,'box.more','','',event);\">더보기</a>, <a href=\"http://www.naver.com/rules/service.html\" onclick=\"clickcr(this, 'fot.agreement', '', '', event);\" target=\"_blank\">이용약관</a>, <a href=\"http://www.naver.com/rules/privacy.html\" onclick=\"clickcr(this, 'fot.privacy', '', '', event);\" target=\"_blank\"><strong>개인정보처리방침</strong></a>, <a href=\"http://www.naver.com/rules/disclaimer.html\" onclick=\"clickcr(this, 'fot.disclaimer', '', '', event);\" target=\"_blank\">책임의 한계와 법적고지</a>, <a href=\"https://help.naver.com/support/service/main.nhn?serviceNo=800\" onclick=\"clickcr(this, 'fot.help', '', '', event);\" target=\"_blank\">영화 고객센터</a>, <a href=\"http://www.ftc.go.kr/info/bizinfo/communicationList.jsp\" onclick=\"clickcr(this, 'fot.bizinfo', '', '', event);\">사업자등록정보 확인</a>, <a class=\"logo\" href=\"http://www.navercorp.com\" onclick=\"clickcr(this, 'fot.nhn', '', '', event);\" target=\"_blank\"><img alt=\"NAVER\" height=\"11\" src=\"https://ssl.pstatic.net/static/movie/2013/07/logo_naver.png\" width=\"63\"/></a>, <a href=\"http://www.navercorp.com\" onclick=\"clickcr(this, 'fot.corp', '', '', event);\" target=\"_blank\">NAVER Corp.</a>]\nNone\n#header\n#content\n#\nhttp://www.naver.com/\n/\n/\n/movie/running/current.nhn\n/movie/running/current.nhn\n/movie/running/premovie.nhn\n/movie/running/weekendmovie.nhn\n/movie/running/movieclip.nhn\n/movie/sdb/rank/rmovie.nhn\n/movie/sdb/rank/rmovie.nhn\n/movie/sdb/browsing/bmovie_nation.nhn\n/movie/bi/mi/reserve.nhn\nhttp://ticket.movie.naver.com/Ticket/Reserve.aspx\nhttp://ticket.movie.naver.com/Order/OrderList.aspx\nhttp://ticket.movie.naver.com/Coupon/Ticket.aspx\nhttp://ticket.movie.naver.com/Discount/DiscountCard.aspx\nhttp://help.naver.com/ops/step2/faq.nhn?parentId=77&depth=2\n/movie/point/af/list.nhn\n/movie/point/af/list.nhn\n/movie/board/review/list.nhn\n/movie/poll/naver/list.nhn\nhttp://nstore.naver.com/movie/home.nhn\nhttp://tv.naver.com/indiecinema\n/movie/sdb/rank/rmovie.nhn\n/movie/sdb/rank/rpeople.nhn\n/movie/sdb/rank/rreserve.nhn\n/movie/sdb/rank/rboxoffice.nhn\nrmovie.nhn?sel=cnt&date=20190110\nrmovie.nhn?sel=cur&date=20190110\nrmovie.nhn?sel=pnt&date=20190110\nrmovie.nhn?sel=cnt&tg=0&date=20190109\n/movie/bi/mi/basic.nhn?code=152632\n/movie/bi/mi/basic.nhn?code=151153\n/movie/bi/mi/basic.nhn?code=167699\n/movie/bi/mi/basic.nhn?code=166092\n/movie/bi/mi/basic.nhn?code=152344\n/movie/bi/mi/basic.nhn?code=156464\n/movie/bi/mi/basic.nhn?code=164172\n/movie/bi/mi/basic.nhn?code=164139\n/movie/bi/mi/basic.nhn?code=157297\n/movie/bi/mi/basic.nhn?code=164101\n/movie/bi/mi/basic.nhn?code=180278\n/movie/bi/mi/basic.nhn?code=171539\n/movie/bi/mi/basic.nhn?code=163826\n/movie/bi/mi/basic.nhn?code=181030\n/movie/bi/mi/basic.nhn?code=144987\n/movie/bi/mi/basic.nhn?code=167481\n/movie/bi/mi/basic.nhn?code=180379\n/movie/bi/mi/basic.nhn?code=167651\n/movie/bi/mi/basic.nhn?code=171725\n/movie/bi/mi/basic.nhn?code=164192\n/movie/bi/mi/basic.nhn?code=167638\n/movie/bi/mi/basic.nhn?code=164102\n/movie/bi/mi/basic.nhn?code=142266\n/movie/bi/mi/basic.nhn?code=164117\n/movie/bi/mi/basic.nhn?code=171755\n/movie/bi/mi/basic.nhn?code=178097\n/movie/bi/mi/basic.nhn?code=172975\n/movie/bi/mi/basic.nhn?code=136900\n/movie/bi/mi/basic.nhn?code=180372\n/movie/bi/mi/basic.nhn?code=151747\n/movie/bi/mi/basic.nhn?code=168019\n/movie/bi/mi/basic.nhn?code=171475\n/movie/bi/mi/basic.nhn?code=168043\n/movie/bi/mi/basic.nhn?code=181539\n/movie/bi/mi/basic.nhn?code=164173\n/movie/bi/mi/basic.nhn?code=150688\n/movie/bi/mi/basic.nhn?code=66728\n/movie/bi/mi/basic.nhn?code=92125\n/movie/bi/mi/basic.nhn?code=174835\n/movie/bi/mi/basic.nhn?code=132623\n/movie/bi/mi/basic.nhn?code=172137\n/movie/bi/mi/basic.nhn?code=144906\n/movie/bi/mi/basic.nhn?code=173840\n/movie/bi/mi/basic.nhn?code=156496\n/movie/bi/mi/basic.nhn?code=144927\n/movie/bi/mi/basic.nhn?code=87307\n/movie/bi/mi/basic.nhn?code=179694\n/movie/bi/mi/basic.nhn?code=154258\n/movie/bi/mi/basic.nhn?code=172187\n/movie/bi/mi/basic.nhn?code=166610\n#gnb_top\n/movie/bi/mi/basic.nhn?code=152632\n/movie/bi/mi/basic.nhn?code=151153\n/movie/bi/mi/basic.nhn?code=167699\n/movie/bi/mi/basic.nhn?code=166092\n/movie/bi/mi/basic.nhn?code=152344\n/movie/sdb/rank/rmovie.nhn\n/movie/bi/pi/basic.nhn?st=1&code=80780\n/movie/bi/pi/basic.nhn?st=1&code=113530\n/movie/bi/pi/basic.nhn?st=1&code=51993\n/movie/bi/pi/basic.nhn?st=1&code=81371\n/movie/bi/pi/basic.nhn?st=1&code=43284\n/movie/sdb/rank/rpeople.nhn\n/movie/bi/mi/basic.nhn?code=167699\n/movie/bi/mi/basic.nhn?code=180372\n/movie/bi/mi/basic.nhn?code=152632\n/movie/bi/mi/basic.nhn?code=164172\n/movie/bi/mi/basic.nhn?code=151153\n/movie/sdb/rank/rreserve.nhn\n/movie/bi/mi/basic.nhn?code=152632\n/movie/bi/mi/basic.nhn?code=151153\n/movie/bi/mi/basic.nhn?code=156464\n/movie/bi/mi/basic.nhn?code=166092\n/movie/bi/mi/basic.nhn?code=164139\n/movie/sdb/rank/rboxoffice.nhn\nhttp://www.naver.com/rules/service.html\nhttp://www.naver.com/rules/privacy.html\nhttp://www.naver.com/rules/disclaimer.html\nhttps://help.naver.com/support/service/main.nhn?serviceNo=800\nhttp://www.ftc.go.kr/info/bizinfo/communicationList.jsp\nhttp://www.navercorp.com\nhttp://www.navercorp.com\n"
     ]
    }
   ],
   "source": [
    "aList = soup.find_all(\"a\")\n",
    "print(aList)\n",
    "\n",
    "for aTag in aList:\n",
    "    print(aTag.get('href')) \n",
    "    aTag.attrs"
   ]
  },
  {
   "cell_type": "code",
   "execution_count": 49,
   "metadata": {},
   "outputs": [
    {
     "name": "stdout",
     "output_type": "stream",
     "text": [
      "hello\n"
     ]
    }
   ],
   "source": [
    "import time\n",
    "time.sleep(1)\n",
    "print(\"hello\")\n"
   ]
  },
  {
   "cell_type": "code",
   "execution_count": 52,
   "metadata": {},
   "outputs": [
    {
     "data": {
      "text/plain": [
       "('movie.jpg', <http.client.HTTPMessage at 0x7f2d35ec70b8>)"
      ]
     },
     "execution_count": 52,
     "metadata": {},
     "output_type": "execute_result"
    }
   ],
   "source": [
    "\n",
    "# 파일다운로드 img_url\n",
    "img_url = \"https://movie.naver.com/movie/bi/mi/basic.nhn?code=152632#\"\n",
    "\n",
    "urlretrieve(img_url,\"./image/movie.jpg\")"
   ]
  }
 ],
 "metadata": {
  "kernelspec": {
   "display_name": "Python 2",
   "language": "python",
   "name": "python2"
  },
  "language_info": {
   "codemirror_mode": {
    "name": "ipython",
    "version": 2
   },
   "file_extension": ".py",
   "mimetype": "text/x-python",
   "name": "python",
   "nbconvert_exporter": "python",
   "pygments_lexer": "ipython2",
   "version": "2.7.6"
  }
 },
 "nbformat": 4,
 "nbformat_minor": 0
}
