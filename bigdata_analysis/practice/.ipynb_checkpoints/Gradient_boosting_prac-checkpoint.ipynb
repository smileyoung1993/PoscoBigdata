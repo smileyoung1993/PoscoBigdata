{
 "cells": [
  {
   "cell_type": "code",
   "execution_count": 3,
   "metadata": {},
   "outputs": [
    {
     "name": "stdout",
     "output_type": "stream",
     "text": [
      "['NanumBarunGothic']\n"
     ]
    }
   ],
   "source": [
    "import pandas as pd\n",
    "import numpy as np\n",
    "#sklearn.preprocessing 의 scale:스케일 조정 패키지\n",
    "from sklearn.preprocessing import scale\n",
    "from sklearn.ensemble import GradientBoostingClassifier\n",
    "import seaborn as sns\n",
    "import matplotlib.pyplot as plt\n",
    "import matplotlib\n",
    "import matplotlib.font_manager as fm\n",
    "from sklearn.model_selection import train_test_split\n",
    "for f in fm.fontManager.ttflist:\n",
    "    if 'NanumBarunGothic' in f.fname:\n",
    "        plt.rcParams['font.family'] = 'NanumBarunGothic' # 폰트를 나눔고딕으로\n",
    "print(plt.rcParams['font.family'])\n",
    "matplotlib.rcParams['axes.unicode_minus'] = False #'-'기호 제대로 나오게함"
   ]
  },
  {
   "cell_type": "code",
   "execution_count": 5,
   "metadata": {},
   "outputs": [
    {
     "data": {
      "text/html": [
       "<div>\n",
       "<style scoped>\n",
       "    .dataframe tbody tr th:only-of-type {\n",
       "        vertical-align: middle;\n",
       "    }\n",
       "\n",
       "    .dataframe tbody tr th {\n",
       "        vertical-align: top;\n",
       "    }\n",
       "\n",
       "    .dataframe thead th {\n",
       "        text-align: right;\n",
       "    }\n",
       "</style>\n",
       "<table border=\"1\" class=\"dataframe\">\n",
       "  <thead>\n",
       "    <tr style=\"text-align: right;\">\n",
       "      <th></th>\n",
       "      <th>BAD</th>\n",
       "      <th>LOAN</th>\n",
       "      <th>MORTDUE</th>\n",
       "      <th>VALUE</th>\n",
       "      <th>REASON</th>\n",
       "      <th>JOB</th>\n",
       "      <th>YOJ</th>\n",
       "      <th>DEROG</th>\n",
       "      <th>DELINQ</th>\n",
       "      <th>CLAGE</th>\n",
       "      <th>NINQ</th>\n",
       "      <th>CLNO</th>\n",
       "      <th>DEBTINC</th>\n",
       "    </tr>\n",
       "  </thead>\n",
       "  <tbody>\n",
       "    <tr>\n",
       "      <th>0</th>\n",
       "      <td>1</td>\n",
       "      <td>1700</td>\n",
       "      <td>30548</td>\n",
       "      <td>40320.0</td>\n",
       "      <td>HomeImp</td>\n",
       "      <td>Other</td>\n",
       "      <td>9.0</td>\n",
       "      <td>0</td>\n",
       "      <td>0.0</td>\n",
       "      <td>101.466002</td>\n",
       "      <td>1.0</td>\n",
       "      <td>8</td>\n",
       "      <td>37.113614</td>\n",
       "    </tr>\n",
       "    <tr>\n",
       "      <th>1</th>\n",
       "      <td>1</td>\n",
       "      <td>1800</td>\n",
       "      <td>28502</td>\n",
       "      <td>43034.0</td>\n",
       "      <td>HomeImp</td>\n",
       "      <td>Other</td>\n",
       "      <td>11.0</td>\n",
       "      <td>0</td>\n",
       "      <td>0.0</td>\n",
       "      <td>88.766030</td>\n",
       "      <td>0.0</td>\n",
       "      <td>8</td>\n",
       "      <td>36.884894</td>\n",
       "    </tr>\n",
       "    <tr>\n",
       "      <th>2</th>\n",
       "      <td>0</td>\n",
       "      <td>2300</td>\n",
       "      <td>102370</td>\n",
       "      <td>120953.0</td>\n",
       "      <td>HomeImp</td>\n",
       "      <td>Office</td>\n",
       "      <td>2.0</td>\n",
       "      <td>0</td>\n",
       "      <td>0.0</td>\n",
       "      <td>90.992533</td>\n",
       "      <td>0.0</td>\n",
       "      <td>13</td>\n",
       "      <td>31.588503</td>\n",
       "    </tr>\n",
       "    <tr>\n",
       "      <th>3</th>\n",
       "      <td>1</td>\n",
       "      <td>2400</td>\n",
       "      <td>34863</td>\n",
       "      <td>47471.0</td>\n",
       "      <td>HomeImp</td>\n",
       "      <td>Mgr</td>\n",
       "      <td>12.0</td>\n",
       "      <td>0</td>\n",
       "      <td>0.0</td>\n",
       "      <td>70.491080</td>\n",
       "      <td>1.0</td>\n",
       "      <td>21</td>\n",
       "      <td>38.263601</td>\n",
       "    </tr>\n",
       "    <tr>\n",
       "      <th>4</th>\n",
       "      <td>0</td>\n",
       "      <td>2400</td>\n",
       "      <td>98449</td>\n",
       "      <td>117195.0</td>\n",
       "      <td>HomeImp</td>\n",
       "      <td>Office</td>\n",
       "      <td>4.0</td>\n",
       "      <td>0</td>\n",
       "      <td>0.0</td>\n",
       "      <td>93.811775</td>\n",
       "      <td>0.0</td>\n",
       "      <td>13</td>\n",
       "      <td>29.681827</td>\n",
       "    </tr>\n",
       "  </tbody>\n",
       "</table>\n",
       "</div>"
      ],
      "text/plain": [
       "   BAD  LOAN  MORTDUE     VALUE   REASON     JOB   YOJ  DEROG  DELINQ  \\\n",
       "0    1  1700    30548   40320.0  HomeImp   Other   9.0      0     0.0   \n",
       "1    1  1800    28502   43034.0  HomeImp   Other  11.0      0     0.0   \n",
       "2    0  2300   102370  120953.0  HomeImp  Office   2.0      0     0.0   \n",
       "3    1  2400    34863   47471.0  HomeImp     Mgr  12.0      0     0.0   \n",
       "4    0  2400    98449  117195.0  HomeImp  Office   4.0      0     0.0   \n",
       "\n",
       "        CLAGE  NINQ  CLNO    DEBTINC  \n",
       "0  101.466002   1.0     8  37.113614  \n",
       "1   88.766030   0.0     8  36.884894  \n",
       "2   90.992533   0.0    13  31.588503  \n",
       "3   70.491080   1.0    21  38.263601  \n",
       "4   93.811775   0.0    13  29.681827  "
      ]
     },
     "execution_count": 5,
     "metadata": {},
     "output_type": "execute_result"
    }
   ],
   "source": [
    "df_hmeq = pd.read_csv('../data/HMEQ.csv',encoding = 'euc-kr')\n",
    "df_hmeq.head()"
   ]
  },
  {
   "cell_type": "code",
   "execution_count": 6,
   "metadata": {},
   "outputs": [
    {
     "data": {
      "text/plain": [
       "BAD          0\n",
       "LOAN         0\n",
       "MORTDUE      0\n",
       "VALUE       14\n",
       "REASON       0\n",
       "JOB         81\n",
       "YOJ        205\n",
       "DEROG        0\n",
       "DELINQ      30\n",
       "CLAGE       37\n",
       "NINQ        56\n",
       "CLNO         0\n",
       "DEBTINC      0\n",
       "dtype: int64"
      ]
     },
     "execution_count": 6,
     "metadata": {},
     "output_type": "execute_result"
    }
   ],
   "source": [
    "df_hmeq.isnull().sum()"
   ]
  },
  {
   "cell_type": "code",
   "execution_count": 10,
   "metadata": {},
   "outputs": [],
   "source": [
    "df_hmeq['JOB'].fillna(\"Other\",inplace = True)\n",
    "df_hmeq.fillna(df_hmeq.mean(),inplace = True)\n"
   ]
  },
  {
   "cell_type": "code",
   "execution_count": 11,
   "metadata": {},
   "outputs": [
    {
     "data": {
      "text/html": [
       "<div>\n",
       "<style scoped>\n",
       "    .dataframe tbody tr th:only-of-type {\n",
       "        vertical-align: middle;\n",
       "    }\n",
       "\n",
       "    .dataframe tbody tr th {\n",
       "        vertical-align: top;\n",
       "    }\n",
       "\n",
       "    .dataframe thead th {\n",
       "        text-align: right;\n",
       "    }\n",
       "</style>\n",
       "<table border=\"1\" class=\"dataframe\">\n",
       "  <thead>\n",
       "    <tr style=\"text-align: right;\">\n",
       "      <th></th>\n",
       "      <th>BAD</th>\n",
       "      <th>LOAN</th>\n",
       "      <th>MORTDUE</th>\n",
       "      <th>VALUE</th>\n",
       "      <th>YOJ</th>\n",
       "      <th>DEROG</th>\n",
       "      <th>DELINQ</th>\n",
       "      <th>CLAGE</th>\n",
       "      <th>NINQ</th>\n",
       "      <th>CLNO</th>\n",
       "      <th>DEBTINC</th>\n",
       "      <th>REASON_DebtCon</th>\n",
       "      <th>REASON_HomeImp</th>\n",
       "      <th>JOB_Mgr</th>\n",
       "      <th>JOB_Office</th>\n",
       "      <th>JOB_Other</th>\n",
       "      <th>JOB_ProfExe</th>\n",
       "      <th>JOB_Sales</th>\n",
       "      <th>JOB_Self</th>\n",
       "    </tr>\n",
       "  </thead>\n",
       "  <tbody>\n",
       "    <tr>\n",
       "      <th>0</th>\n",
       "      <td>1</td>\n",
       "      <td>1700</td>\n",
       "      <td>30548</td>\n",
       "      <td>40320.0</td>\n",
       "      <td>9.0</td>\n",
       "      <td>0</td>\n",
       "      <td>0.0</td>\n",
       "      <td>101.466002</td>\n",
       "      <td>1.0</td>\n",
       "      <td>8</td>\n",
       "      <td>37.113614</td>\n",
       "      <td>0</td>\n",
       "      <td>1</td>\n",
       "      <td>0</td>\n",
       "      <td>0</td>\n",
       "      <td>1</td>\n",
       "      <td>0</td>\n",
       "      <td>0</td>\n",
       "      <td>0</td>\n",
       "    </tr>\n",
       "    <tr>\n",
       "      <th>1</th>\n",
       "      <td>1</td>\n",
       "      <td>1800</td>\n",
       "      <td>28502</td>\n",
       "      <td>43034.0</td>\n",
       "      <td>11.0</td>\n",
       "      <td>0</td>\n",
       "      <td>0.0</td>\n",
       "      <td>88.766030</td>\n",
       "      <td>0.0</td>\n",
       "      <td>8</td>\n",
       "      <td>36.884894</td>\n",
       "      <td>0</td>\n",
       "      <td>1</td>\n",
       "      <td>0</td>\n",
       "      <td>0</td>\n",
       "      <td>1</td>\n",
       "      <td>0</td>\n",
       "      <td>0</td>\n",
       "      <td>0</td>\n",
       "    </tr>\n",
       "    <tr>\n",
       "      <th>2</th>\n",
       "      <td>0</td>\n",
       "      <td>2300</td>\n",
       "      <td>102370</td>\n",
       "      <td>120953.0</td>\n",
       "      <td>2.0</td>\n",
       "      <td>0</td>\n",
       "      <td>0.0</td>\n",
       "      <td>90.992533</td>\n",
       "      <td>0.0</td>\n",
       "      <td>13</td>\n",
       "      <td>31.588503</td>\n",
       "      <td>0</td>\n",
       "      <td>1</td>\n",
       "      <td>0</td>\n",
       "      <td>1</td>\n",
       "      <td>0</td>\n",
       "      <td>0</td>\n",
       "      <td>0</td>\n",
       "      <td>0</td>\n",
       "    </tr>\n",
       "    <tr>\n",
       "      <th>3</th>\n",
       "      <td>1</td>\n",
       "      <td>2400</td>\n",
       "      <td>34863</td>\n",
       "      <td>47471.0</td>\n",
       "      <td>12.0</td>\n",
       "      <td>0</td>\n",
       "      <td>0.0</td>\n",
       "      <td>70.491080</td>\n",
       "      <td>1.0</td>\n",
       "      <td>21</td>\n",
       "      <td>38.263601</td>\n",
       "      <td>0</td>\n",
       "      <td>1</td>\n",
       "      <td>1</td>\n",
       "      <td>0</td>\n",
       "      <td>0</td>\n",
       "      <td>0</td>\n",
       "      <td>0</td>\n",
       "      <td>0</td>\n",
       "    </tr>\n",
       "    <tr>\n",
       "      <th>4</th>\n",
       "      <td>0</td>\n",
       "      <td>2400</td>\n",
       "      <td>98449</td>\n",
       "      <td>117195.0</td>\n",
       "      <td>4.0</td>\n",
       "      <td>0</td>\n",
       "      <td>0.0</td>\n",
       "      <td>93.811775</td>\n",
       "      <td>0.0</td>\n",
       "      <td>13</td>\n",
       "      <td>29.681827</td>\n",
       "      <td>0</td>\n",
       "      <td>1</td>\n",
       "      <td>0</td>\n",
       "      <td>1</td>\n",
       "      <td>0</td>\n",
       "      <td>0</td>\n",
       "      <td>0</td>\n",
       "      <td>0</td>\n",
       "    </tr>\n",
       "  </tbody>\n",
       "</table>\n",
       "</div>"
      ],
      "text/plain": [
       "   BAD  LOAN  MORTDUE     VALUE   YOJ  DEROG  DELINQ       CLAGE  NINQ  CLNO  \\\n",
       "0    1  1700    30548   40320.0   9.0      0     0.0  101.466002   1.0     8   \n",
       "1    1  1800    28502   43034.0  11.0      0     0.0   88.766030   0.0     8   \n",
       "2    0  2300   102370  120953.0   2.0      0     0.0   90.992533   0.0    13   \n",
       "3    1  2400    34863   47471.0  12.0      0     0.0   70.491080   1.0    21   \n",
       "4    0  2400    98449  117195.0   4.0      0     0.0   93.811775   0.0    13   \n",
       "\n",
       "     DEBTINC  REASON_DebtCon  REASON_HomeImp  JOB_Mgr  JOB_Office  JOB_Other  \\\n",
       "0  37.113614               0               1        0           0          1   \n",
       "1  36.884894               0               1        0           0          1   \n",
       "2  31.588503               0               1        0           1          0   \n",
       "3  38.263601               0               1        1           0          0   \n",
       "4  29.681827               0               1        0           1          0   \n",
       "\n",
       "   JOB_ProfExe  JOB_Sales  JOB_Self  \n",
       "0            0          0         0  \n",
       "1            0          0         0  \n",
       "2            0          0         0  \n",
       "3            0          0         0  \n",
       "4            0          0         0  "
      ]
     },
     "execution_count": 11,
     "metadata": {},
     "output_type": "execute_result"
    }
   ],
   "source": [
    "df_hmeq_dummy = pd.get_dummies(df_hmeq)\n",
    "df_hmeq_dummy.head()"
   ]
  },
  {
   "cell_type": "code",
   "execution_count": 23,
   "metadata": {},
   "outputs": [
    {
     "name": "stdout",
     "output_type": "stream",
     "text": [
      "train data x size : (2623, 18)\n",
      "train data y size : (2623,)\n",
      "test data x size : (1125, 18)\n",
      "test data y size : (1125,)\n"
     ]
    }
   ],
   "source": [
    "np.random.seed(seed = 1234)\n",
    "x= df_hmeq_dummy.drop(\"BAD\",axis = 1 )\n",
    "y= df_hmeq_dummy[\"BAD\"]\n",
    "\n",
    "x_tr,x_test,y_tr,y_test = train_test_split(x,y,test_size = 0.3,random_state = 1234)\n",
    "\n",
    "print(\"train data x size : {}\".format(x_tr.shape))\n",
    "print(\"train data y size : {}\".format(y_tr.shape))\n",
    "print(\"test data x size : {}\".format(x_test.shape))\n",
    "print(\"test data y size : {}\".format(y_test.shape))"
   ]
  },
  {
   "cell_type": "code",
   "execution_count": 24,
   "metadata": {},
   "outputs": [
    {
     "name": "stdout",
     "output_type": "stream",
     "text": [
      "Accuracy on training set:0.963\n",
      "Accuracy on test set:0.941\n"
     ]
    }
   ],
   "source": [
    "gb_uncustomized = GradientBoostingClassifier(random_state = 1234)\n",
    "gb_uncustomized.fit(x_tr,y_tr)\n",
    "print(\"Accuracy on training set:{:.3f}\".format(gb_uncustomized.score(x_tr,y_tr)))\n",
    "print(\"Accuracy on test set:{:.3f}\".format(gb_uncustomized.score(x_test,y_test)))\n"
   ]
  },
  {
   "cell_type": "code",
   "execution_count": 25,
   "metadata": {},
   "outputs": [
    {
     "name": "stderr",
     "output_type": "stream",
     "text": [
      "/home/pirl/anaconda3/lib/python3.7/site-packages/ipykernel_launcher.py:1: DataConversionWarning: Data with input dtype uint8, int64, float64 were all converted to float64 by the scale function.\n",
      "  \"\"\"Entry point for launching an IPython kernel.\n",
      "/home/pirl/anaconda3/lib/python3.7/site-packages/ipykernel_launcher.py:2: DataConversionWarning: Data with input dtype uint8, int64, float64 were all converted to float64 by the scale function.\n",
      "  \n"
     ]
    },
    {
     "data": {
      "text/html": [
       "<div>\n",
       "<style scoped>\n",
       "    .dataframe tbody tr th:only-of-type {\n",
       "        vertical-align: middle;\n",
       "    }\n",
       "\n",
       "    .dataframe tbody tr th {\n",
       "        vertical-align: top;\n",
       "    }\n",
       "\n",
       "    .dataframe thead th {\n",
       "        text-align: right;\n",
       "    }\n",
       "</style>\n",
       "<table border=\"1\" class=\"dataframe\">\n",
       "  <thead>\n",
       "    <tr style=\"text-align: right;\">\n",
       "      <th></th>\n",
       "      <th>LOAN</th>\n",
       "      <th>MORTDUE</th>\n",
       "      <th>VALUE</th>\n",
       "      <th>YOJ</th>\n",
       "      <th>DEROG</th>\n",
       "      <th>DELINQ</th>\n",
       "      <th>CLAGE</th>\n",
       "      <th>NINQ</th>\n",
       "      <th>CLNO</th>\n",
       "      <th>DEBTINC</th>\n",
       "      <th>REASON_DebtCon</th>\n",
       "      <th>REASON_HomeImp</th>\n",
       "      <th>JOB_Mgr</th>\n",
       "      <th>JOB_Office</th>\n",
       "      <th>JOB_Other</th>\n",
       "      <th>JOB_ProfExe</th>\n",
       "      <th>JOB_Sales</th>\n",
       "      <th>JOB_Self</th>\n",
       "    </tr>\n",
       "  </thead>\n",
       "  <tbody>\n",
       "    <tr>\n",
       "      <th>0</th>\n",
       "      <td>0.696194</td>\n",
       "      <td>0.660046</td>\n",
       "      <td>0.458798</td>\n",
       "      <td>0.253123</td>\n",
       "      <td>-0.264231</td>\n",
       "      <td>-0.344506</td>\n",
       "      <td>-0.423153</td>\n",
       "      <td>-0.656214</td>\n",
       "      <td>0.747873</td>\n",
       "      <td>0.913982</td>\n",
       "      <td>0.644033</td>\n",
       "      <td>-0.644033</td>\n",
       "      <td>-0.379363</td>\n",
       "      <td>2.218331</td>\n",
       "      <td>-0.829399</td>\n",
       "      <td>-0.570453</td>\n",
       "      <td>-0.126013</td>\n",
       "      <td>-0.194909</td>\n",
       "    </tr>\n",
       "    <tr>\n",
       "      <th>1</th>\n",
       "      <td>0.920307</td>\n",
       "      <td>0.136324</td>\n",
       "      <td>0.181641</td>\n",
       "      <td>1.339161</td>\n",
       "      <td>6.497507</td>\n",
       "      <td>-0.344506</td>\n",
       "      <td>-0.627883</td>\n",
       "      <td>-0.656214</td>\n",
       "      <td>3.755616</td>\n",
       "      <td>1.898928</td>\n",
       "      <td>0.644033</td>\n",
       "      <td>-0.644033</td>\n",
       "      <td>-0.379363</td>\n",
       "      <td>-0.450789</td>\n",
       "      <td>-0.829399</td>\n",
       "      <td>1.752992</td>\n",
       "      <td>-0.126013</td>\n",
       "      <td>-0.194909</td>\n",
       "    </tr>\n",
       "    <tr>\n",
       "      <th>2</th>\n",
       "      <td>-1.191528</td>\n",
       "      <td>-0.018394</td>\n",
       "      <td>-0.506590</td>\n",
       "      <td>-1.240179</td>\n",
       "      <td>-0.264231</td>\n",
       "      <td>-0.344506</td>\n",
       "      <td>-0.302507</td>\n",
       "      <td>-0.656214</td>\n",
       "      <td>0.644158</td>\n",
       "      <td>1.552112</td>\n",
       "      <td>0.644033</td>\n",
       "      <td>-0.644033</td>\n",
       "      <td>-0.379363</td>\n",
       "      <td>-0.450789</td>\n",
       "      <td>-0.829399</td>\n",
       "      <td>1.752992</td>\n",
       "      <td>-0.126013</td>\n",
       "      <td>-0.194909</td>\n",
       "    </tr>\n",
       "    <tr>\n",
       "      <th>3</th>\n",
       "      <td>-0.398512</td>\n",
       "      <td>-1.203528</td>\n",
       "      <td>-1.422267</td>\n",
       "      <td>-0.289896</td>\n",
       "      <td>-0.264231</td>\n",
       "      <td>-0.344506</td>\n",
       "      <td>-1.107547</td>\n",
       "      <td>-0.656214</td>\n",
       "      <td>-0.600426</td>\n",
       "      <td>-1.493047</td>\n",
       "      <td>0.644033</td>\n",
       "      <td>-0.644033</td>\n",
       "      <td>-0.379363</td>\n",
       "      <td>2.218331</td>\n",
       "      <td>-0.829399</td>\n",
       "      <td>-0.570453</td>\n",
       "      <td>-0.126013</td>\n",
       "      <td>-0.194909</td>\n",
       "    </tr>\n",
       "    <tr>\n",
       "      <th>4</th>\n",
       "      <td>0.946166</td>\n",
       "      <td>-0.398535</td>\n",
       "      <td>-0.066141</td>\n",
       "      <td>-0.832915</td>\n",
       "      <td>-0.264231</td>\n",
       "      <td>-0.344506</td>\n",
       "      <td>-0.190305</td>\n",
       "      <td>0.658183</td>\n",
       "      <td>0.229297</td>\n",
       "      <td>0.418660</td>\n",
       "      <td>0.644033</td>\n",
       "      <td>-0.644033</td>\n",
       "      <td>-0.379363</td>\n",
       "      <td>2.218331</td>\n",
       "      <td>-0.829399</td>\n",
       "      <td>-0.570453</td>\n",
       "      <td>-0.126013</td>\n",
       "      <td>-0.194909</td>\n",
       "    </tr>\n",
       "  </tbody>\n",
       "</table>\n",
       "</div>"
      ],
      "text/plain": [
       "       LOAN   MORTDUE     VALUE       YOJ     DEROG    DELINQ     CLAGE  \\\n",
       "0  0.696194  0.660046  0.458798  0.253123 -0.264231 -0.344506 -0.423153   \n",
       "1  0.920307  0.136324  0.181641  1.339161  6.497507 -0.344506 -0.627883   \n",
       "2 -1.191528 -0.018394 -0.506590 -1.240179 -0.264231 -0.344506 -0.302507   \n",
       "3 -0.398512 -1.203528 -1.422267 -0.289896 -0.264231 -0.344506 -1.107547   \n",
       "4  0.946166 -0.398535 -0.066141 -0.832915 -0.264231 -0.344506 -0.190305   \n",
       "\n",
       "       NINQ      CLNO   DEBTINC  REASON_DebtCon  REASON_HomeImp   JOB_Mgr  \\\n",
       "0 -0.656214  0.747873  0.913982        0.644033       -0.644033 -0.379363   \n",
       "1 -0.656214  3.755616  1.898928        0.644033       -0.644033 -0.379363   \n",
       "2 -0.656214  0.644158  1.552112        0.644033       -0.644033 -0.379363   \n",
       "3 -0.656214 -0.600426 -1.493047        0.644033       -0.644033 -0.379363   \n",
       "4  0.658183  0.229297  0.418660        0.644033       -0.644033 -0.379363   \n",
       "\n",
       "   JOB_Office  JOB_Other  JOB_ProfExe  JOB_Sales  JOB_Self  \n",
       "0    2.218331  -0.829399    -0.570453  -0.126013 -0.194909  \n",
       "1   -0.450789  -0.829399     1.752992  -0.126013 -0.194909  \n",
       "2   -0.450789  -0.829399     1.752992  -0.126013 -0.194909  \n",
       "3    2.218331  -0.829399    -0.570453  -0.126013 -0.194909  \n",
       "4    2.218331  -0.829399    -0.570453  -0.126013 -0.194909  "
      ]
     },
     "execution_count": 25,
     "metadata": {},
     "output_type": "execute_result"
    }
   ],
   "source": [
    "x_tr_scaled = scale(x_tr,axis = 0)\n",
    "x_test_scaled = scale(x_test, axis = 0)\n",
    "\n",
    "pd.DataFrame(x_tr_scaled, columns = x_tr.columns).head()"
   ]
  },
  {
   "cell_type": "code",
   "execution_count": 26,
   "metadata": {},
   "outputs": [
    {
     "name": "stdout",
     "output_type": "stream",
     "text": [
      "train 정확도: 0.963\n",
      "test 정확도: 0.938\n"
     ]
    }
   ],
   "source": [
    "gb_scaled = GradientBoostingClassifier(random_state = 1234)\n",
    "gb_scaled.fit(x_tr_scaled,y_tr)\n",
    "\n",
    "print(\"train 정확도: {:.3f}\".format(gb_scaled.score(x_tr_scaled,y_tr)))\n",
    "     \n",
    "print(\"test 정확도: {:.3f}\".format(gb_scaled.score(x_test_scaled,y_test)))"
   ]
  },
  {
   "cell_type": "code",
   "execution_count": 28,
   "metadata": {},
   "outputs": [],
   "source": [
    "train_accuracy = []\n",
    "test_accuracy = []\n",
    "\n",
    "for lr in range(1,100,5):\n",
    "    gb1 = GradientBoostingClassifier(learning_rate = lr/100,random_state = 1234)\n",
    "    gb1.fit(x_tr_scaled,y_tr)\n",
    "    train_accuracy.append(gb1.score(x_tr_scaled,y_tr))\n",
    "    test_accuracy.append(gb1.score(x_test_scaled,y_test))\n",
    "\n",
    "df_accuracy1 = pd.DataFrame()\n",
    "df_accuracy1[\"LearningRate\"] = [lr/100 for lr in range(1,100,5)]\n",
    "df_accuracy1[\"TrainAccuracy\"] = train_accuracy\n",
    "df_accuracy1[\"TestAccuracy\"] = test_accuracy\n"
   ]
  },
  {
   "cell_type": "code",
   "execution_count": 30,
   "metadata": {},
   "outputs": [
    {
     "data": {
      "text/plain": [
       "<matplotlib.axes._subplots.AxesSubplot at 0x7f739bdd9a90>"
      ]
     },
     "execution_count": 30,
     "metadata": {},
     "output_type": "execute_result"
    },
    {
     "data": {
      "image/png": "[encoded data removed]",
      "text/plain": [
       "<Figure size 432x288 with 1 Axes>"
      ]
     },
     "metadata": {
      "needs_background": "light"
     },
     "output_type": "display_data"
    }
   ],
   "source": [
    "df_accuracy1.round(3)\n",
    "df_accuracy1.set_index(\"LearningRate\",inplace = False).plot.line()"
   ]
  },
  {
   "cell_type": "code",
   "execution_count": 32,
   "metadata": {},
   "outputs": [
    {
     "data": {
      "text/html": [
       "<div>\n",
       "<style scoped>\n",
       "    .dataframe tbody tr th:only-of-type {\n",
       "        vertical-align: middle;\n",
       "    }\n",
       "\n",
       "    .dataframe tbody tr th {\n",
       "        vertical-align: top;\n",
       "    }\n",
       "\n",
       "    .dataframe thead th {\n",
       "        text-align: right;\n",
       "    }\n",
       "</style>\n",
       "<table border=\"1\" class=\"dataframe\">\n",
       "  <thead>\n",
       "    <tr style=\"text-align: right;\">\n",
       "      <th></th>\n",
       "      <th>Estimators</th>\n",
       "      <th>TrainAccuracy</th>\n",
       "      <th>TestAccuracy</th>\n",
       "    </tr>\n",
       "  </thead>\n",
       "  <tbody>\n",
       "    <tr>\n",
       "      <th>0</th>\n",
       "      <td>50</td>\n",
       "      <td>0.969501</td>\n",
       "      <td>0.935111</td>\n",
       "    </tr>\n",
       "    <tr>\n",
       "      <th>1</th>\n",
       "      <td>60</td>\n",
       "      <td>0.972932</td>\n",
       "      <td>0.938667</td>\n",
       "    </tr>\n",
       "    <tr>\n",
       "      <th>2</th>\n",
       "      <td>70</td>\n",
       "      <td>0.975982</td>\n",
       "      <td>0.938667</td>\n",
       "    </tr>\n",
       "    <tr>\n",
       "      <th>3</th>\n",
       "      <td>80</td>\n",
       "      <td>0.977888</td>\n",
       "      <td>0.934222</td>\n",
       "    </tr>\n",
       "    <tr>\n",
       "      <th>4</th>\n",
       "      <td>90</td>\n",
       "      <td>0.982082</td>\n",
       "      <td>0.935111</td>\n",
       "    </tr>\n",
       "    <tr>\n",
       "      <th>5</th>\n",
       "      <td>100</td>\n",
       "      <td>0.984369</td>\n",
       "      <td>0.936000</td>\n",
       "    </tr>\n",
       "    <tr>\n",
       "      <th>6</th>\n",
       "      <td>110</td>\n",
       "      <td>0.987419</td>\n",
       "      <td>0.936000</td>\n",
       "    </tr>\n",
       "    <tr>\n",
       "      <th>7</th>\n",
       "      <td>120</td>\n",
       "      <td>0.988944</td>\n",
       "      <td>0.936889</td>\n",
       "    </tr>\n",
       "    <tr>\n",
       "      <th>8</th>\n",
       "      <td>130</td>\n",
       "      <td>0.991231</td>\n",
       "      <td>0.937778</td>\n",
       "    </tr>\n",
       "    <tr>\n",
       "      <th>9</th>\n",
       "      <td>140</td>\n",
       "      <td>0.992375</td>\n",
       "      <td>0.937778</td>\n",
       "    </tr>\n",
       "  </tbody>\n",
       "</table>\n",
       "</div>"
      ],
      "text/plain": [
       "   Estimators  TrainAccuracy  TestAccuracy\n",
       "0          50       0.969501      0.935111\n",
       "1          60       0.972932      0.938667\n",
       "2          70       0.975982      0.938667\n",
       "3          80       0.977888      0.934222\n",
       "4          90       0.982082      0.935111\n",
       "5         100       0.984369      0.936000\n",
       "6         110       0.987419      0.936000\n",
       "7         120       0.988944      0.936889\n",
       "8         130       0.991231      0.937778\n",
       "9         140       0.992375      0.937778"
      ]
     },
     "execution_count": 32,
     "metadata": {},
     "output_type": "execute_result"
    }
   ],
   "source": [
    "para_est = [est for est in range(50,150,10)]\n",
    "lr = 0.2\n",
    "\n",
    "train_accuracy = [];test_accuracy=[];\n",
    "for ests in para_est:\n",
    "    gb2 = GradientBoostingClassifier(learning_rate = 0.2, n_estimators = ests, random_state= 1234)\n",
    "    gb2.fit(x_tr_scaled,y_tr)\n",
    "    train_accuracy.append(gb2.score(x_tr_scaled,y_tr))\n",
    "    test_accuracy.append(gb2.score(x_test_scaled,y_test))\n",
    "    \n",
    "df_accuracy2 = pd.DataFrame()\n",
    "df_accuracy2[\"Estimators\"] = para_est\n",
    "df_accuracy2[\"TrainAccuracy\"] = train_accuracy\n",
    "df_accuracy2[\"TestAccuracy\"] = test_accuracy\n",
    "\n",
    "df_accuracy2"
   ]
  },
  {
   "cell_type": "code",
   "execution_count": 33,
   "metadata": {},
   "outputs": [
    {
     "data": {
      "text/plain": [
       "<matplotlib.axes._subplots.AxesSubplot at 0x7f73996a0c88>"
      ]
     },
     "execution_count": 33,
     "metadata": {},
     "output_type": "execute_result"
    },
    {
     "data": {
      "image/png": "[encoded data removed]",
      "text/plain": [
       "<Figure size 432x288 with 1 Axes>"
      ]
     },
     "metadata": {
      "needs_background": "light"
     },
     "output_type": "display_data"
    }
   ],
   "source": [
    "df_accuracy2.set_index(\"Estimators\",inplace= False).plot.line()"
   ]
  },
  {
   "cell_type": "code",
   "execution_count": 39,
   "metadata": {},
   "outputs": [
    {
     "data": {
      "text/html": [
       "<div>\n",
       "<style scoped>\n",
       "    .dataframe tbody tr th:only-of-type {\n",
       "        vertical-align: middle;\n",
       "    }\n",
       "\n",
       "    .dataframe tbody tr th {\n",
       "        vertical-align: top;\n",
       "    }\n",
       "\n",
       "    .dataframe thead th {\n",
       "        text-align: right;\n",
       "    }\n",
       "</style>\n",
       "<table border=\"1\" class=\"dataframe\">\n",
       "  <thead>\n",
       "    <tr style=\"text-align: right;\">\n",
       "      <th></th>\n",
       "      <th>MaxDepth</th>\n",
       "      <th>TrainAccuracy</th>\n",
       "      <th>TestAccuracy</th>\n",
       "    </tr>\n",
       "  </thead>\n",
       "  <tbody>\n",
       "    <tr>\n",
       "      <th>0</th>\n",
       "      <td>1</td>\n",
       "      <td>0.939</td>\n",
       "      <td>0.930</td>\n",
       "    </tr>\n",
       "    <tr>\n",
       "      <th>1</th>\n",
       "      <td>2</td>\n",
       "      <td>0.962</td>\n",
       "      <td>0.936</td>\n",
       "    </tr>\n",
       "    <tr>\n",
       "      <th>2</th>\n",
       "      <td>3</td>\n",
       "      <td>0.984</td>\n",
       "      <td>0.936</td>\n",
       "    </tr>\n",
       "    <tr>\n",
       "      <th>3</th>\n",
       "      <td>4</td>\n",
       "      <td>0.997</td>\n",
       "      <td>0.942</td>\n",
       "    </tr>\n",
       "    <tr>\n",
       "      <th>4</th>\n",
       "      <td>5</td>\n",
       "      <td>1.000</td>\n",
       "      <td>0.939</td>\n",
       "    </tr>\n",
       "  </tbody>\n",
       "</table>\n",
       "</div>"
      ],
      "text/plain": [
       "   MaxDepth  TrainAccuracy  TestAccuracy\n",
       "0         1          0.939         0.930\n",
       "1         2          0.962         0.936\n",
       "2         3          0.984         0.936\n",
       "3         4          0.997         0.942\n",
       "4         5          1.000         0.939"
      ]
     },
     "execution_count": 39,
     "metadata": {},
     "output_type": "execute_result"
    }
   ],
   "source": [
    "lr = 0.2;n_est = 100;\n",
    "para_max_depth = [i+1 for i in range(5)]\n",
    "\n",
    "train_accuracy = []; test_accuracy = [];\n",
    "\n",
    "for depth in para_max_depth:\n",
    "    gb3 = GradientBoostingClassifier(learning_rate= 0.2, n_estimators=n_est,max_depth = depth, random_state=1234)\n",
    "    gb3.fit(x_tr_scaled,y_tr)\n",
    "    \n",
    "    train_accuracy.append(gb3.score(x_tr_scaled,y_tr))\n",
    "    test_accuracy.append(gb3.score(x_test_scaled,y_test))\n",
    "\n",
    "df_accuracy3 = pd.DataFrame()\n",
    "df_accuracy3[\"MaxDepth\"] = para_max_depth\n",
    "df_accuracy3[\"TrainAccuracy\"] = train_accuracy\n",
    "df_accuracy3[\"TestAccuracy\"] = test_accuracy\n",
    "df_accuracy3.round(3)"
   ]
  },
  {
   "cell_type": "code",
   "execution_count": 38,
   "metadata": {},
   "outputs": [
    {
     "data": {
      "text/plain": [
       "<matplotlib.axes._subplots.AxesSubplot at 0x7f7399382470>"
      ]
     },
     "execution_count": 38,
     "metadata": {},
     "output_type": "execute_result"
    },
    {
     "data": {
      "image/png": "[encoded data removed]",
      "text/plain": [
       "<Figure size 432x288 with 1 Axes>"
      ]
     },
     "metadata": {
      "needs_background": "light"
     },
     "output_type": "display_data"
    }
   ],
   "source": [
    "df_accuracy3.round(3)# depth =4 일때가 적당함\n",
    "\n",
    "df_accuracy3.set_index(\"MaxDepth\",inplace = False).plot.line()"
   ]
  },
  {
   "cell_type": "code",
   "execution_count": 40,
   "metadata": {},
   "outputs": [
    {
     "data": {
      "text/plain": [
       "<matplotlib.axes._subplots.AxesSubplot at 0x7f7394b32b70>"
      ]
     },
     "execution_count": 40,
     "metadata": {},
     "output_type": "execute_result"
    },
    {
     "data": {
      "image/png": "[encoded data removed]",
      "text/plain": [
       "<Figure size 432x288 with 1 Axes>"
      ]
     },
     "metadata": {
      "needs_background": "light"
     },
     "output_type": "display_data"
    }
   ],
   "source": [
    "lr = 0.2; n_est = 100; max_depth = 3;\n",
    "para_min_leaf = [i+1 for i in range(10)]\n",
    "\n",
    "train_accuracy = [];test_accuracy = [];\n",
    "\n",
    "for leafsize in para_min_leaf:\n",
    "    gb4 = GradientBoostingClassifier(learning_rate= lr,n_estimators=n_est , max_depth = max_depth, min_samples_leaf= leafsize, random_state= 1234)\n",
    "    gb4.fit(x_tr_scaled,y_tr)\n",
    "    train_accuracy.append(gb4.score(x_tr_scaled,y_tr))\n",
    "    test_accuracy.append(gb4.score(x_test_scaled,y_test))\n",
    "\n",
    "df_accuracy4 = pd.DataFrame()\n",
    "df_accuracy4[\"MinLeafSize\"] = para_min_leaf\n",
    "df_accuracy4[\"TrainAccuracy\"] = train_accuracy\n",
    "df_accuracy4[\"TestAccuracy\"] = test_accuracy\n",
    "\n",
    "df_accuracy4.round(3)\n",
    "df_accuracy4.set_index(\"MinLeafSize\",inplace = False).plot.line()"
   ]
  },
  {
   "cell_type": "code",
   "execution_count": 46,
   "metadata": {},
   "outputs": [
    {
     "data": {
      "image/png": "[encoded data removed]",
      "text/plain": [
       "<Figure size 432x288 with 1 Axes>"
      ]
     },
     "metadata": {
      "needs_background": "light"
     },
     "output_type": "display_data"
    }
   ],
   "source": [
    "gb_model = GradientBoostingClassifier(learning_rate= 0.1,max_depth = 4, min_samples_leaf=30,n_estimators=5,random_state=1234)\n",
    "\n",
    "gb_model.fit(x_tr_scaled,y_tr)\n",
    "\n",
    "df_feature_importance = pd.DataFrame()\n",
    "df_feature_importance[\"feature\"] = x_tr.columns\n",
    "df_feature_importance[\"importance\"] = gb_model.feature_importances_\n",
    "df_feature_importance.sort_values(by = \"importance\",ascending = False).round(3)\n",
    "\n",
    "def plot_feature_importances(model):\n",
    "    n_features = x_tr.shape[1]\n",
    "    plt.barh(range(n_features),model.feature_importances_,align=\"center\")\n",
    "    plt.yticks(np.arange(n_features),x_tr.columns)\n",
    "    plt.xlabel(\"설명변수 중요도\")\n",
    "    plt.ylabel(\"설명변수\")\n",
    "    plt.ylim(-1,n_features)\n",
    "    \n",
    "plot_feature_importances(gb_model)    "
   ]
  },
  {
   "cell_type": "code",
   "execution_count": null,
   "metadata": {},
   "outputs": [],
   "source": []
  }
 ],
 "metadata": {
  "kernelspec": {
   "display_name": "Python 3",
   "language": "python",
   "name": "python3"
  },
  "language_info": {
   "codemirror_mode": {
    "name": "ipython",
    "version": 3
   },
   "file_extension": ".py",
   "mimetype": "text/x-python",
   "name": "python",
   "nbconvert_exporter": "python",
   "pygments_lexer": "ipython3",
   "version": "3.7.1"
  }
 },
 "nbformat": 4,
 "nbformat_minor": 2
}
