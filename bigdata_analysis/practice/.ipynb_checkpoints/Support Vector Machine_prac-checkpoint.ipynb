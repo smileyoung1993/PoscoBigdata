{
 "cells": [
  {
   "cell_type": "markdown",
   "metadata": {},
   "source": [
    "Prac"
   ]
  },
  {
   "cell_type": "code",
   "execution_count": 2,
   "metadata": {},
   "outputs": [
    {
     "name": "stdout",
     "output_type": "stream",
     "text": [
      "['NanumBarunGothic']\n"
     ]
    }
   ],
   "source": [
    "import pandas as pd\n",
    "import numpy as np\n",
    "#sklearn.preprocessing 의 scale:스케일 조정 패키지\n",
    "from sklearn.preprocessing import scale\n",
    "#서포트 벡터 머신 모델 패키지 불러오기\n",
    "from sklearn.svm import SVC \n",
    "import seaborn as sns\n",
    "import matplotlib.pyplot as plt\n",
    "import matplotlib\n",
    "import matplotlib.font_manager as fm\n",
    "for f in fm.fontManager.ttflist:\n",
    "    if 'NanumBarunGothic' in f.fname:\n",
    "        plt.rcParams['font.family'] = 'NanumBarunGothic' # 폰트를 나눔고딕으로\n",
    "print(plt.rcParams['font.family'])\n",
    "matplotlib.rcParams['axes.unicode_minus'] = False #'-'기호 제대로 나오게함\n"
   ]
  },
  {
   "cell_type": "code",
   "execution_count": 3,
   "metadata": {},
   "outputs": [
    {
     "data": {
      "text/html": [
       "<div>\n",
       "<style scoped>\n",
       "    .dataframe tbody tr th:only-of-type {\n",
       "        vertical-align: middle;\n",
       "    }\n",
       "\n",
       "    .dataframe tbody tr th {\n",
       "        vertical-align: top;\n",
       "    }\n",
       "\n",
       "    .dataframe thead th {\n",
       "        text-align: right;\n",
       "    }\n",
       "</style>\n",
       "<table border=\"1\" class=\"dataframe\">\n",
       "  <thead>\n",
       "    <tr style=\"text-align: right;\">\n",
       "      <th></th>\n",
       "      <th>BAD</th>\n",
       "      <th>LOAN</th>\n",
       "      <th>MORTDUE</th>\n",
       "      <th>VALUE</th>\n",
       "      <th>REASON</th>\n",
       "      <th>JOB</th>\n",
       "      <th>YOJ</th>\n",
       "      <th>DEROG</th>\n",
       "      <th>DELINQ</th>\n",
       "      <th>CLAGE</th>\n",
       "      <th>NINQ</th>\n",
       "      <th>CLNO</th>\n",
       "      <th>DEBTINC</th>\n",
       "    </tr>\n",
       "  </thead>\n",
       "  <tbody>\n",
       "    <tr>\n",
       "      <th>0</th>\n",
       "      <td>1</td>\n",
       "      <td>1700</td>\n",
       "      <td>30548</td>\n",
       "      <td>40320.0</td>\n",
       "      <td>HomeImp</td>\n",
       "      <td>Other</td>\n",
       "      <td>9.0</td>\n",
       "      <td>0</td>\n",
       "      <td>0.0</td>\n",
       "      <td>101.466002</td>\n",
       "      <td>1.0</td>\n",
       "      <td>8</td>\n",
       "      <td>37.113614</td>\n",
       "    </tr>\n",
       "    <tr>\n",
       "      <th>1</th>\n",
       "      <td>1</td>\n",
       "      <td>1800</td>\n",
       "      <td>28502</td>\n",
       "      <td>43034.0</td>\n",
       "      <td>HomeImp</td>\n",
       "      <td>Other</td>\n",
       "      <td>11.0</td>\n",
       "      <td>0</td>\n",
       "      <td>0.0</td>\n",
       "      <td>88.766030</td>\n",
       "      <td>0.0</td>\n",
       "      <td>8</td>\n",
       "      <td>36.884894</td>\n",
       "    </tr>\n",
       "    <tr>\n",
       "      <th>2</th>\n",
       "      <td>0</td>\n",
       "      <td>2300</td>\n",
       "      <td>102370</td>\n",
       "      <td>120953.0</td>\n",
       "      <td>HomeImp</td>\n",
       "      <td>Office</td>\n",
       "      <td>2.0</td>\n",
       "      <td>0</td>\n",
       "      <td>0.0</td>\n",
       "      <td>90.992533</td>\n",
       "      <td>0.0</td>\n",
       "      <td>13</td>\n",
       "      <td>31.588503</td>\n",
       "    </tr>\n",
       "    <tr>\n",
       "      <th>3</th>\n",
       "      <td>1</td>\n",
       "      <td>2400</td>\n",
       "      <td>34863</td>\n",
       "      <td>47471.0</td>\n",
       "      <td>HomeImp</td>\n",
       "      <td>Mgr</td>\n",
       "      <td>12.0</td>\n",
       "      <td>0</td>\n",
       "      <td>0.0</td>\n",
       "      <td>70.491080</td>\n",
       "      <td>1.0</td>\n",
       "      <td>21</td>\n",
       "      <td>38.263601</td>\n",
       "    </tr>\n",
       "    <tr>\n",
       "      <th>4</th>\n",
       "      <td>0</td>\n",
       "      <td>2400</td>\n",
       "      <td>98449</td>\n",
       "      <td>117195.0</td>\n",
       "      <td>HomeImp</td>\n",
       "      <td>Office</td>\n",
       "      <td>4.0</td>\n",
       "      <td>0</td>\n",
       "      <td>0.0</td>\n",
       "      <td>93.811775</td>\n",
       "      <td>0.0</td>\n",
       "      <td>13</td>\n",
       "      <td>29.681827</td>\n",
       "    </tr>\n",
       "  </tbody>\n",
       "</table>\n",
       "</div>"
      ],
      "text/plain": [
       "   BAD  LOAN  MORTDUE     VALUE   REASON     JOB   YOJ  DEROG  DELINQ  \\\n",
       "0    1  1700    30548   40320.0  HomeImp   Other   9.0      0     0.0   \n",
       "1    1  1800    28502   43034.0  HomeImp   Other  11.0      0     0.0   \n",
       "2    0  2300   102370  120953.0  HomeImp  Office   2.0      0     0.0   \n",
       "3    1  2400    34863   47471.0  HomeImp     Mgr  12.0      0     0.0   \n",
       "4    0  2400    98449  117195.0  HomeImp  Office   4.0      0     0.0   \n",
       "\n",
       "        CLAGE  NINQ  CLNO    DEBTINC  \n",
       "0  101.466002   1.0     8  37.113614  \n",
       "1   88.766030   0.0     8  36.884894  \n",
       "2   90.992533   0.0    13  31.588503  \n",
       "3   70.491080   1.0    21  38.263601  \n",
       "4   93.811775   0.0    13  29.681827  "
      ]
     },
     "execution_count": 3,
     "metadata": {},
     "output_type": "execute_result"
    }
   ],
   "source": [
    "df_hmeq = pd.read_csv(\"../data/HMEQ.csv\",encoding = \"euc-kr\")\n",
    "df_hmeq.head()"
   ]
  },
  {
   "cell_type": "code",
   "execution_count": 4,
   "metadata": {},
   "outputs": [
    {
     "data": {
      "text/plain": [
       "BAD          0\n",
       "LOAN         0\n",
       "MORTDUE      0\n",
       "VALUE       14\n",
       "REASON       0\n",
       "JOB         81\n",
       "YOJ        205\n",
       "DEROG        0\n",
       "DELINQ      30\n",
       "CLAGE       37\n",
       "NINQ        56\n",
       "CLNO         0\n",
       "DEBTINC      0\n",
       "dtype: int64"
      ]
     },
     "execution_count": 4,
     "metadata": {},
     "output_type": "execute_result"
    }
   ],
   "source": [
    "df_hmeq.isnull().sum(axis = 0)"
   ]
  },
  {
   "cell_type": "code",
   "execution_count": 5,
   "metadata": {},
   "outputs": [],
   "source": [
    "df_hmeq[\"JOB\"].fillna(\"Other\",inplace = True)\n",
    "df_hmeq.fillna(df_hmeq.mean(),inplace = True)"
   ]
  },
  {
   "cell_type": "code",
   "execution_count": 6,
   "metadata": {},
   "outputs": [
    {
     "data": {
      "text/html": [
       "<div>\n",
       "<style scoped>\n",
       "    .dataframe tbody tr th:only-of-type {\n",
       "        vertical-align: middle;\n",
       "    }\n",
       "\n",
       "    .dataframe tbody tr th {\n",
       "        vertical-align: top;\n",
       "    }\n",
       "\n",
       "    .dataframe thead th {\n",
       "        text-align: right;\n",
       "    }\n",
       "</style>\n",
       "<table border=\"1\" class=\"dataframe\">\n",
       "  <thead>\n",
       "    <tr style=\"text-align: right;\">\n",
       "      <th></th>\n",
       "      <th>BAD</th>\n",
       "      <th>LOAN</th>\n",
       "      <th>MORTDUE</th>\n",
       "      <th>VALUE</th>\n",
       "      <th>YOJ</th>\n",
       "      <th>DEROG</th>\n",
       "      <th>DELINQ</th>\n",
       "      <th>CLAGE</th>\n",
       "      <th>NINQ</th>\n",
       "      <th>CLNO</th>\n",
       "      <th>DEBTINC</th>\n",
       "      <th>REASON_DebtCon</th>\n",
       "      <th>REASON_HomeImp</th>\n",
       "      <th>JOB_Mgr</th>\n",
       "      <th>JOB_Office</th>\n",
       "      <th>JOB_Other</th>\n",
       "      <th>JOB_ProfExe</th>\n",
       "      <th>JOB_Sales</th>\n",
       "      <th>JOB_Self</th>\n",
       "    </tr>\n",
       "  </thead>\n",
       "  <tbody>\n",
       "    <tr>\n",
       "      <th>0</th>\n",
       "      <td>1</td>\n",
       "      <td>1700</td>\n",
       "      <td>30548</td>\n",
       "      <td>40320.0</td>\n",
       "      <td>9.0</td>\n",
       "      <td>0</td>\n",
       "      <td>0.0</td>\n",
       "      <td>101.466002</td>\n",
       "      <td>1.0</td>\n",
       "      <td>8</td>\n",
       "      <td>37.113614</td>\n",
       "      <td>0</td>\n",
       "      <td>1</td>\n",
       "      <td>0</td>\n",
       "      <td>0</td>\n",
       "      <td>1</td>\n",
       "      <td>0</td>\n",
       "      <td>0</td>\n",
       "      <td>0</td>\n",
       "    </tr>\n",
       "    <tr>\n",
       "      <th>1</th>\n",
       "      <td>1</td>\n",
       "      <td>1800</td>\n",
       "      <td>28502</td>\n",
       "      <td>43034.0</td>\n",
       "      <td>11.0</td>\n",
       "      <td>0</td>\n",
       "      <td>0.0</td>\n",
       "      <td>88.766030</td>\n",
       "      <td>0.0</td>\n",
       "      <td>8</td>\n",
       "      <td>36.884894</td>\n",
       "      <td>0</td>\n",
       "      <td>1</td>\n",
       "      <td>0</td>\n",
       "      <td>0</td>\n",
       "      <td>1</td>\n",
       "      <td>0</td>\n",
       "      <td>0</td>\n",
       "      <td>0</td>\n",
       "    </tr>\n",
       "    <tr>\n",
       "      <th>2</th>\n",
       "      <td>0</td>\n",
       "      <td>2300</td>\n",
       "      <td>102370</td>\n",
       "      <td>120953.0</td>\n",
       "      <td>2.0</td>\n",
       "      <td>0</td>\n",
       "      <td>0.0</td>\n",
       "      <td>90.992533</td>\n",
       "      <td>0.0</td>\n",
       "      <td>13</td>\n",
       "      <td>31.588503</td>\n",
       "      <td>0</td>\n",
       "      <td>1</td>\n",
       "      <td>0</td>\n",
       "      <td>1</td>\n",
       "      <td>0</td>\n",
       "      <td>0</td>\n",
       "      <td>0</td>\n",
       "      <td>0</td>\n",
       "    </tr>\n",
       "    <tr>\n",
       "      <th>3</th>\n",
       "      <td>1</td>\n",
       "      <td>2400</td>\n",
       "      <td>34863</td>\n",
       "      <td>47471.0</td>\n",
       "      <td>12.0</td>\n",
       "      <td>0</td>\n",
       "      <td>0.0</td>\n",
       "      <td>70.491080</td>\n",
       "      <td>1.0</td>\n",
       "      <td>21</td>\n",
       "      <td>38.263601</td>\n",
       "      <td>0</td>\n",
       "      <td>1</td>\n",
       "      <td>1</td>\n",
       "      <td>0</td>\n",
       "      <td>0</td>\n",
       "      <td>0</td>\n",
       "      <td>0</td>\n",
       "      <td>0</td>\n",
       "    </tr>\n",
       "    <tr>\n",
       "      <th>4</th>\n",
       "      <td>0</td>\n",
       "      <td>2400</td>\n",
       "      <td>98449</td>\n",
       "      <td>117195.0</td>\n",
       "      <td>4.0</td>\n",
       "      <td>0</td>\n",
       "      <td>0.0</td>\n",
       "      <td>93.811775</td>\n",
       "      <td>0.0</td>\n",
       "      <td>13</td>\n",
       "      <td>29.681827</td>\n",
       "      <td>0</td>\n",
       "      <td>1</td>\n",
       "      <td>0</td>\n",
       "      <td>1</td>\n",
       "      <td>0</td>\n",
       "      <td>0</td>\n",
       "      <td>0</td>\n",
       "      <td>0</td>\n",
       "    </tr>\n",
       "  </tbody>\n",
       "</table>\n",
       "</div>"
      ],
      "text/plain": [
       "   BAD  LOAN  MORTDUE     VALUE   YOJ  DEROG  DELINQ       CLAGE  NINQ  CLNO  \\\n",
       "0    1  1700    30548   40320.0   9.0      0     0.0  101.466002   1.0     8   \n",
       "1    1  1800    28502   43034.0  11.0      0     0.0   88.766030   0.0     8   \n",
       "2    0  2300   102370  120953.0   2.0      0     0.0   90.992533   0.0    13   \n",
       "3    1  2400    34863   47471.0  12.0      0     0.0   70.491080   1.0    21   \n",
       "4    0  2400    98449  117195.0   4.0      0     0.0   93.811775   0.0    13   \n",
       "\n",
       "     DEBTINC  REASON_DebtCon  REASON_HomeImp  JOB_Mgr  JOB_Office  JOB_Other  \\\n",
       "0  37.113614               0               1        0           0          1   \n",
       "1  36.884894               0               1        0           0          1   \n",
       "2  31.588503               0               1        0           1          0   \n",
       "3  38.263601               0               1        1           0          0   \n",
       "4  29.681827               0               1        0           1          0   \n",
       "\n",
       "   JOB_ProfExe  JOB_Sales  JOB_Self  \n",
       "0            0          0         0  \n",
       "1            0          0         0  \n",
       "2            0          0         0  \n",
       "3            0          0         0  \n",
       "4            0          0         0  "
      ]
     },
     "execution_count": 6,
     "metadata": {},
     "output_type": "execute_result"
    }
   ],
   "source": [
    "# 더미변수 생성\n",
    "df_hmeq_dummy = pd.get_dummies(df_hmeq)\n",
    "df_hmeq_dummy.head()"
   ]
  },
  {
   "cell_type": "code",
   "execution_count": 7,
   "metadata": {},
   "outputs": [
    {
     "name": "stdout",
     "output_type": "stream",
     "text": [
      "train data X size :(2604, 18)\n",
      "train data Y size :(2604,)\n",
      "test data X size :(1144, 18)\n",
      "test data Y size :(1144,)\n"
     ]
    }
   ],
   "source": [
    "np.random.seed(seed = 1234)\n",
    "msk = np.random.rand(df_hmeq_dummy.shape[0])<0.7\n",
    "df_hmeq_train = df_hmeq_dummy[msk]\n",
    "df_hmeq_test = df_hmeq_dummy[~msk]\n",
    "\n",
    "df_hmeq_train_y = df_hmeq_train[\"BAD\"]\n",
    "df_hmeq_train_x = df_hmeq_train.drop(\"BAD\",axis = 1, inplace = False)\n",
    "df_hmeq_test_y = df_hmeq_test[\"BAD\"]\n",
    "df_hmeq_test_x = df_hmeq_test.drop(\"BAD\",axis = 1, inplace = False)\n",
    "\n",
    "print(\"train data X size :{}\".format(df_hmeq_train_x.shape))\n",
    "print(\"train data Y size :{}\".format(df_hmeq_train_y.shape))\n",
    "\n",
    "print(\"test data X size :{}\".format(df_hmeq_test_x.shape))\n",
    "print(\"test data Y size :{}\".format(df_hmeq_test_y.shape))\n"
   ]
  },
  {
   "cell_type": "code",
   "execution_count": 8,
   "metadata": {},
   "outputs": [
    {
     "name": "stderr",
     "output_type": "stream",
     "text": [
      "/home/pirl/anaconda3/lib/python3.7/site-packages/sklearn/svm/base.py:196: FutureWarning: The default value of gamma will change from 'auto' to 'scale' in version 0.22 to account better for unscaled features. Set gamma explicitly to 'auto' or 'scale' to avoid this warning.\n",
      "  \"avoid this warning.\", FutureWarning)\n"
     ]
    },
    {
     "name": "stdout",
     "output_type": "stream",
     "text": [
      "accuracy on train set: 1.000\n",
      "accuracy on test set: 0.910\n"
     ]
    }
   ],
   "source": [
    "svm_uncustomized = SVC(random_state=1234)\n",
    "svm_uncustomized.fit(df_hmeq_train_x,df_hmeq_train_y)\n",
    "\n",
    "print(\"accuracy on train set: {:.3f}\".format(svm_uncustomized.score(df_hmeq_train_x,df_hmeq_train_y)))\n",
    "print(\"accuracy on test set: {:.3f}\".format(svm_uncustomized.score(df_hmeq_test_x,df_hmeq_test_y)))\n"
   ]
  },
  {
   "cell_type": "code",
   "execution_count": 9,
   "metadata": {},
   "outputs": [
    {
     "data": {
      "text/plain": [
       "SVC(C=1.0, cache_size=200, class_weight=None, coef0=0.0,\n",
       "  decision_function_shape='ovr', degree=3, gamma='auto_deprecated',\n",
       "  kernel='rbf', max_iter=-1, probability=False, random_state=1234,\n",
       "  shrinking=True, tol=0.001, verbose=False)"
      ]
     },
     "execution_count": 9,
     "metadata": {},
     "output_type": "execute_result"
    }
   ],
   "source": [
    "svm_uncustomized"
   ]
  },
  {
   "cell_type": "code",
   "execution_count": 10,
   "metadata": {
    "scrolled": true
   },
   "outputs": [
    {
     "name": "stderr",
     "output_type": "stream",
     "text": [
      "/home/pirl/anaconda3/lib/python3.7/site-packages/sklearn/svm/base.py:196: FutureWarning: The default value of gamma will change from 'auto' to 'scale' in version 0.22 to account better for unscaled features. Set gamma explicitly to 'auto' or 'scale' to avoid this warning.\n",
      "  \"avoid this warning.\", FutureWarning)\n",
      "/home/pirl/anaconda3/lib/python3.7/site-packages/sklearn/svm/base.py:196: FutureWarning: The default value of gamma will change from 'auto' to 'scale' in version 0.22 to account better for unscaled features. Set gamma explicitly to 'auto' or 'scale' to avoid this warning.\n",
      "  \"avoid this warning.\", FutureWarning)\n",
      "/home/pirl/anaconda3/lib/python3.7/site-packages/sklearn/svm/base.py:196: FutureWarning: The default value of gamma will change from 'auto' to 'scale' in version 0.22 to account better for unscaled features. Set gamma explicitly to 'auto' or 'scale' to avoid this warning.\n",
      "  \"avoid this warning.\", FutureWarning)\n",
      "/home/pirl/anaconda3/lib/python3.7/site-packages/sklearn/svm/base.py:196: FutureWarning: The default value of gamma will change from 'auto' to 'scale' in version 0.22 to account better for unscaled features. Set gamma explicitly to 'auto' or 'scale' to avoid this warning.\n",
      "  \"avoid this warning.\", FutureWarning)\n",
      "/home/pirl/anaconda3/lib/python3.7/site-packages/sklearn/svm/base.py:196: FutureWarning: The default value of gamma will change from 'auto' to 'scale' in version 0.22 to account better for unscaled features. Set gamma explicitly to 'auto' or 'scale' to avoid this warning.\n",
      "  \"avoid this warning.\", FutureWarning)\n",
      "/home/pirl/anaconda3/lib/python3.7/site-packages/sklearn/svm/base.py:196: FutureWarning: The default value of gamma will change from 'auto' to 'scale' in version 0.22 to account better for unscaled features. Set gamma explicitly to 'auto' or 'scale' to avoid this warning.\n",
      "  \"avoid this warning.\", FutureWarning)\n",
      "/home/pirl/anaconda3/lib/python3.7/site-packages/sklearn/svm/base.py:196: FutureWarning: The default value of gamma will change from 'auto' to 'scale' in version 0.22 to account better for unscaled features. Set gamma explicitly to 'auto' or 'scale' to avoid this warning.\n",
      "  \"avoid this warning.\", FutureWarning)\n",
      "/home/pirl/anaconda3/lib/python3.7/site-packages/sklearn/svm/base.py:196: FutureWarning: The default value of gamma will change from 'auto' to 'scale' in version 0.22 to account better for unscaled features. Set gamma explicitly to 'auto' or 'scale' to avoid this warning.\n",
      "  \"avoid this warning.\", FutureWarning)\n",
      "/home/pirl/anaconda3/lib/python3.7/site-packages/sklearn/svm/base.py:196: FutureWarning: The default value of gamma will change from 'auto' to 'scale' in version 0.22 to account better for unscaled features. Set gamma explicitly to 'auto' or 'scale' to avoid this warning.\n",
      "  \"avoid this warning.\", FutureWarning)\n",
      "/home/pirl/anaconda3/lib/python3.7/site-packages/sklearn/svm/base.py:196: FutureWarning: The default value of gamma will change from 'auto' to 'scale' in version 0.22 to account better for unscaled features. Set gamma explicitly to 'auto' or 'scale' to avoid this warning.\n",
      "  \"avoid this warning.\", FutureWarning)\n"
     ]
    },
    {
     "data": {
      "text/html": [
       "<div>\n",
       "<style scoped>\n",
       "    .dataframe tbody tr th:only-of-type {\n",
       "        vertical-align: middle;\n",
       "    }\n",
       "\n",
       "    .dataframe tbody tr th {\n",
       "        vertical-align: top;\n",
       "    }\n",
       "\n",
       "    .dataframe thead th {\n",
       "        text-align: right;\n",
       "    }\n",
       "</style>\n",
       "<table border=\"1\" class=\"dataframe\">\n",
       "  <thead>\n",
       "    <tr style=\"text-align: right;\">\n",
       "      <th></th>\n",
       "      <th>C</th>\n",
       "      <th>TrainAccuracy</th>\n",
       "      <th>TestAccuracy</th>\n",
       "    </tr>\n",
       "  </thead>\n",
       "  <tbody>\n",
       "    <tr>\n",
       "      <th>0</th>\n",
       "      <td>0.1</td>\n",
       "      <td>0.907066</td>\n",
       "      <td>0.909965</td>\n",
       "    </tr>\n",
       "    <tr>\n",
       "      <th>1</th>\n",
       "      <td>0.2</td>\n",
       "      <td>0.907066</td>\n",
       "      <td>0.909965</td>\n",
       "    </tr>\n",
       "    <tr>\n",
       "      <th>2</th>\n",
       "      <td>0.3</td>\n",
       "      <td>0.907066</td>\n",
       "      <td>0.909965</td>\n",
       "    </tr>\n",
       "    <tr>\n",
       "      <th>3</th>\n",
       "      <td>0.4</td>\n",
       "      <td>0.907066</td>\n",
       "      <td>0.909965</td>\n",
       "    </tr>\n",
       "    <tr>\n",
       "      <th>4</th>\n",
       "      <td>0.5</td>\n",
       "      <td>0.907066</td>\n",
       "      <td>0.909965</td>\n",
       "    </tr>\n",
       "    <tr>\n",
       "      <th>5</th>\n",
       "      <td>0.6</td>\n",
       "      <td>0.907066</td>\n",
       "      <td>0.909965</td>\n",
       "    </tr>\n",
       "    <tr>\n",
       "      <th>6</th>\n",
       "      <td>0.7</td>\n",
       "      <td>0.907066</td>\n",
       "      <td>0.909965</td>\n",
       "    </tr>\n",
       "    <tr>\n",
       "      <th>7</th>\n",
       "      <td>0.8</td>\n",
       "      <td>0.907066</td>\n",
       "      <td>0.909965</td>\n",
       "    </tr>\n",
       "    <tr>\n",
       "      <th>8</th>\n",
       "      <td>0.9</td>\n",
       "      <td>0.907066</td>\n",
       "      <td>0.909965</td>\n",
       "    </tr>\n",
       "    <tr>\n",
       "      <th>9</th>\n",
       "      <td>1.0</td>\n",
       "      <td>1.000000</td>\n",
       "      <td>0.909965</td>\n",
       "    </tr>\n",
       "  </tbody>\n",
       "</table>\n",
       "</div>"
      ],
      "text/plain": [
       "     C  TrainAccuracy  TestAccuracy\n",
       "0  0.1       0.907066      0.909965\n",
       "1  0.2       0.907066      0.909965\n",
       "2  0.3       0.907066      0.909965\n",
       "3  0.4       0.907066      0.909965\n",
       "4  0.5       0.907066      0.909965\n",
       "5  0.6       0.907066      0.909965\n",
       "6  0.7       0.907066      0.909965\n",
       "7  0.8       0.907066      0.909965\n",
       "8  0.9       0.907066      0.909965\n",
       "9  1.0       1.000000      0.909965"
      ]
     },
     "execution_count": 10,
     "metadata": {},
     "output_type": "execute_result"
    }
   ],
   "source": [
    "# svm\n",
    "train_accuracy = []\n",
    "test_accuracy = []\n",
    "para_C = []\n",
    "for C in range(10):\n",
    "    svm1 = SVC(C= (C+1)/10, random_state = 1234)\n",
    "    svm1.fit(df_hmeq_train_x,df_hmeq_train_y)\n",
    "    para_C.append((C+1)/10)\n",
    "    train_accuracy.append(svm1.score(df_hmeq_train_x,df_hmeq_train_y))\n",
    "    test_accuracy.append(svm1.score(df_hmeq_test_x,df_hmeq_test_y))\n",
    "\n",
    "df_accuracy1 = pd.DataFrame()\n",
    "df_accuracy1[\"C\"] = para_C\n",
    "df_accuracy1[\"TrainAccuracy\"] = train_accuracy\n",
    "df_accuracy1[\"TestAccuracy\"] = test_accuracy\n",
    "df_accuracy1"
   ]
  },
  {
   "cell_type": "code",
   "execution_count": 11,
   "metadata": {},
   "outputs": [
    {
     "data": {
      "text/html": [
       "<div>\n",
       "<style scoped>\n",
       "    .dataframe tbody tr th:only-of-type {\n",
       "        vertical-align: middle;\n",
       "    }\n",
       "\n",
       "    .dataframe tbody tr th {\n",
       "        vertical-align: top;\n",
       "    }\n",
       "\n",
       "    .dataframe thead th {\n",
       "        text-align: right;\n",
       "    }\n",
       "</style>\n",
       "<table border=\"1\" class=\"dataframe\">\n",
       "  <thead>\n",
       "    <tr style=\"text-align: right;\">\n",
       "      <th></th>\n",
       "      <th>C</th>\n",
       "      <th>TrainAccuracy</th>\n",
       "      <th>TestAccuracy</th>\n",
       "    </tr>\n",
       "  </thead>\n",
       "  <tbody>\n",
       "    <tr>\n",
       "      <th>0</th>\n",
       "      <td>0.1</td>\n",
       "      <td>0.907</td>\n",
       "      <td>0.91</td>\n",
       "    </tr>\n",
       "    <tr>\n",
       "      <th>1</th>\n",
       "      <td>0.2</td>\n",
       "      <td>0.907</td>\n",
       "      <td>0.91</td>\n",
       "    </tr>\n",
       "    <tr>\n",
       "      <th>2</th>\n",
       "      <td>0.3</td>\n",
       "      <td>0.907</td>\n",
       "      <td>0.91</td>\n",
       "    </tr>\n",
       "    <tr>\n",
       "      <th>3</th>\n",
       "      <td>0.4</td>\n",
       "      <td>0.907</td>\n",
       "      <td>0.91</td>\n",
       "    </tr>\n",
       "    <tr>\n",
       "      <th>4</th>\n",
       "      <td>0.5</td>\n",
       "      <td>0.907</td>\n",
       "      <td>0.91</td>\n",
       "    </tr>\n",
       "    <tr>\n",
       "      <th>5</th>\n",
       "      <td>0.6</td>\n",
       "      <td>0.907</td>\n",
       "      <td>0.91</td>\n",
       "    </tr>\n",
       "    <tr>\n",
       "      <th>6</th>\n",
       "      <td>0.7</td>\n",
       "      <td>0.907</td>\n",
       "      <td>0.91</td>\n",
       "    </tr>\n",
       "    <tr>\n",
       "      <th>7</th>\n",
       "      <td>0.8</td>\n",
       "      <td>0.907</td>\n",
       "      <td>0.91</td>\n",
       "    </tr>\n",
       "    <tr>\n",
       "      <th>8</th>\n",
       "      <td>0.9</td>\n",
       "      <td>0.907</td>\n",
       "      <td>0.91</td>\n",
       "    </tr>\n",
       "    <tr>\n",
       "      <th>9</th>\n",
       "      <td>1.0</td>\n",
       "      <td>1.000</td>\n",
       "      <td>0.91</td>\n",
       "    </tr>\n",
       "  </tbody>\n",
       "</table>\n",
       "</div>"
      ],
      "text/plain": [
       "     C  TrainAccuracy  TestAccuracy\n",
       "0  0.1          0.907          0.91\n",
       "1  0.2          0.907          0.91\n",
       "2  0.3          0.907          0.91\n",
       "3  0.4          0.907          0.91\n",
       "4  0.5          0.907          0.91\n",
       "5  0.6          0.907          0.91\n",
       "6  0.7          0.907          0.91\n",
       "7  0.8          0.907          0.91\n",
       "8  0.9          0.907          0.91\n",
       "9  1.0          1.000          0.91"
      ]
     },
     "execution_count": 11,
     "metadata": {},
     "output_type": "execute_result"
    }
   ],
   "source": [
    "df_accuracy1.round(3)"
   ]
  },
  {
   "cell_type": "code",
   "execution_count": 12,
   "metadata": {},
   "outputs": [
    {
     "data": {
      "text/plain": [
       "<matplotlib.axes._subplots.AxesSubplot at 0x7fd70714ceb8>"
      ]
     },
     "execution_count": 12,
     "metadata": {},
     "output_type": "execute_result"
    },
    {
     "data": {
      "image/png": "[encoded data removed]",
      "text/plain": [
       "<Figure size 432x288 with 1 Axes>"
      ]
     },
     "metadata": {
      "needs_background": "light"
     },
     "output_type": "display_data"
    }
   ],
   "source": [
    "df_accuracy1.set_index(\"C\",inplace = False).plot.line()"
   ]
  },
  {
   "cell_type": "code",
   "execution_count": 14,
   "metadata": {},
   "outputs": [
    {
     "data": {
      "text/html": [
       "<div>\n",
       "<style scoped>\n",
       "    .dataframe tbody tr th:only-of-type {\n",
       "        vertical-align: middle;\n",
       "    }\n",
       "\n",
       "    .dataframe tbody tr th {\n",
       "        vertical-align: top;\n",
       "    }\n",
       "\n",
       "    .dataframe thead th {\n",
       "        text-align: right;\n",
       "    }\n",
       "</style>\n",
       "<table border=\"1\" class=\"dataframe\">\n",
       "  <thead>\n",
       "    <tr style=\"text-align: right;\">\n",
       "      <th></th>\n",
       "      <th>Gamma</th>\n",
       "      <th>TrainAccuracy</th>\n",
       "      <th>TestAccuracy</th>\n",
       "    </tr>\n",
       "  </thead>\n",
       "  <tbody>\n",
       "    <tr>\n",
       "      <th>0</th>\n",
       "      <td>0.1</td>\n",
       "      <td>1.0</td>\n",
       "      <td>0.909965</td>\n",
       "    </tr>\n",
       "    <tr>\n",
       "      <th>1</th>\n",
       "      <td>0.2</td>\n",
       "      <td>1.0</td>\n",
       "      <td>0.909965</td>\n",
       "    </tr>\n",
       "    <tr>\n",
       "      <th>2</th>\n",
       "      <td>0.3</td>\n",
       "      <td>1.0</td>\n",
       "      <td>0.909965</td>\n",
       "    </tr>\n",
       "    <tr>\n",
       "      <th>3</th>\n",
       "      <td>0.4</td>\n",
       "      <td>1.0</td>\n",
       "      <td>0.909965</td>\n",
       "    </tr>\n",
       "    <tr>\n",
       "      <th>4</th>\n",
       "      <td>0.5</td>\n",
       "      <td>1.0</td>\n",
       "      <td>0.909965</td>\n",
       "    </tr>\n",
       "    <tr>\n",
       "      <th>5</th>\n",
       "      <td>0.6</td>\n",
       "      <td>1.0</td>\n",
       "      <td>0.909965</td>\n",
       "    </tr>\n",
       "    <tr>\n",
       "      <th>6</th>\n",
       "      <td>0.7</td>\n",
       "      <td>1.0</td>\n",
       "      <td>0.909965</td>\n",
       "    </tr>\n",
       "    <tr>\n",
       "      <th>7</th>\n",
       "      <td>0.8</td>\n",
       "      <td>1.0</td>\n",
       "      <td>0.909965</td>\n",
       "    </tr>\n",
       "    <tr>\n",
       "      <th>8</th>\n",
       "      <td>0.9</td>\n",
       "      <td>1.0</td>\n",
       "      <td>0.909965</td>\n",
       "    </tr>\n",
       "  </tbody>\n",
       "</table>\n",
       "</div>"
      ],
      "text/plain": [
       "   Gamma  TrainAccuracy  TestAccuracy\n",
       "0    0.1            1.0      0.909965\n",
       "1    0.2            1.0      0.909965\n",
       "2    0.3            1.0      0.909965\n",
       "3    0.4            1.0      0.909965\n",
       "4    0.5            1.0      0.909965\n",
       "5    0.6            1.0      0.909965\n",
       "6    0.7            1.0      0.909965\n",
       "7    0.8            1.0      0.909965\n",
       "8    0.9            1.0      0.909965"
      ]
     },
     "execution_count": 14,
     "metadata": {},
     "output_type": "execute_result"
    }
   ],
   "source": [
    "# svm\n",
    "train_accuracy = []\n",
    "test_accuracy = []\n",
    "para_gamma = []\n",
    "for gamma in range(1,10):\n",
    "    svm2 = SVC(gamma = gamma/10, random_state = 1234)\n",
    "    svm2.fit(df_hmeq_train_x,df_hmeq_train_y)\n",
    "    para_gamma.append(gamma/10)\n",
    "    train_accuracy.append(svm2.score(df_hmeq_train_x,df_hmeq_train_y))\n",
    "    test_accuracy.append(svm2.score(df_hmeq_test_x,df_hmeq_test_y))\n",
    "\n",
    "df_accuracy2 = pd.DataFrame()\n",
    "df_accuracy2[\"Gamma\"] = para_gamma\n",
    "df_accuracy2[\"TrainAccuracy\"] = train_accuracy\n",
    "df_accuracy2[\"TestAccuracy\"] = test_accuracy\n",
    "df_accuracy2"
   ]
  },
  {
   "cell_type": "code",
   "execution_count": 15,
   "metadata": {},
   "outputs": [
    {
     "data": {
      "text/plain": [
       "<matplotlib.axes._subplots.AxesSubplot at 0x7fd706e884a8>"
      ]
     },
     "execution_count": 15,
     "metadata": {},
     "output_type": "execute_result"
    },
    {
     "data": {
      "image/png": "[encoded data removed]",
      "text/plain": [
       "<Figure size 432x288 with 1 Axes>"
      ]
     },
     "metadata": {
      "needs_background": "light"
     },
     "output_type": "display_data"
    }
   ],
   "source": [
    "df_accuracy2.set_index(\"Gamma\",inplace = False).plot.line()"
   ]
  },
  {
   "cell_type": "code",
   "execution_count": 16,
   "metadata": {},
   "outputs": [
    {
     "name": "stderr",
     "output_type": "stream",
     "text": [
      "/home/pirl/anaconda3/lib/python3.7/site-packages/ipykernel_launcher.py:1: DataConversionWarning: Data with input dtype uint8, int64, float64 were all converted to float64 by the scale function.\n",
      "  \"\"\"Entry point for launching an IPython kernel.\n",
      "/home/pirl/anaconda3/lib/python3.7/site-packages/ipykernel_launcher.py:2: DataConversionWarning: Data with input dtype uint8, int64, float64 were all converted to float64 by the scale function.\n",
      "  \n"
     ]
    }
   ],
   "source": [
    "df_hmeq_train_x_scaled = scale(df_hmeq_train_x,axis = 0)\n",
    "df_hmeq_test_x_scaled = scale(df_hmeq_test_x,axis = 0)"
   ]
  },
  {
   "cell_type": "code",
   "execution_count": 17,
   "metadata": {},
   "outputs": [
    {
     "name": "stdout",
     "output_type": "stream",
     "text": [
      "train 정확도: 0.941\n",
      "test 정확도: 0.934\n"
     ]
    }
   ],
   "source": [
    "svm_uncustomized_scaled = SVC(random_state= 1234)\n",
    "svm_uncustomized_scaled.fit(df_hmeq_train_x_scaled,df_hmeq_train_y)\n",
    "\n",
    "print(\"train 정확도: {:.3f}\".format(svm_uncustomized_scaled.score(df_hmeq_train_x_scaled,df_hmeq_train_y)))\n",
    "print(\"test 정확도: {:.3f}\".format(svm_uncustomized_scaled.score(df_hmeq_test_x_scaled,df_hmeq_test_y)))\n"
   ]
  },
  {
   "cell_type": "code",
   "execution_count": 21,
   "metadata": {},
   "outputs": [
    {
     "data": {
      "text/html": [
       "<div>\n",
       "<style scoped>\n",
       "    .dataframe tbody tr th:only-of-type {\n",
       "        vertical-align: middle;\n",
       "    }\n",
       "\n",
       "    .dataframe tbody tr th {\n",
       "        vertical-align: top;\n",
       "    }\n",
       "\n",
       "    .dataframe thead th {\n",
       "        text-align: right;\n",
       "    }\n",
       "</style>\n",
       "<table border=\"1\" class=\"dataframe\">\n",
       "  <thead>\n",
       "    <tr style=\"text-align: right;\">\n",
       "      <th></th>\n",
       "      <th>C</th>\n",
       "      <th>TrainAccuracy</th>\n",
       "      <th>TestAccuracy</th>\n",
       "    </tr>\n",
       "  </thead>\n",
       "  <tbody>\n",
       "    <tr>\n",
       "      <th>0</th>\n",
       "      <td>1</td>\n",
       "      <td>0.907</td>\n",
       "      <td>0.910</td>\n",
       "    </tr>\n",
       "    <tr>\n",
       "      <th>1</th>\n",
       "      <td>2</td>\n",
       "      <td>0.908</td>\n",
       "      <td>0.911</td>\n",
       "    </tr>\n",
       "    <tr>\n",
       "      <th>2</th>\n",
       "      <td>3</td>\n",
       "      <td>0.921</td>\n",
       "      <td>0.914</td>\n",
       "    </tr>\n",
       "    <tr>\n",
       "      <th>3</th>\n",
       "      <td>4</td>\n",
       "      <td>0.930</td>\n",
       "      <td>0.920</td>\n",
       "    </tr>\n",
       "    <tr>\n",
       "      <th>4</th>\n",
       "      <td>5</td>\n",
       "      <td>0.933</td>\n",
       "      <td>0.925</td>\n",
       "    </tr>\n",
       "    <tr>\n",
       "      <th>5</th>\n",
       "      <td>6</td>\n",
       "      <td>0.936</td>\n",
       "      <td>0.925</td>\n",
       "    </tr>\n",
       "    <tr>\n",
       "      <th>6</th>\n",
       "      <td>7</td>\n",
       "      <td>0.937</td>\n",
       "      <td>0.927</td>\n",
       "    </tr>\n",
       "    <tr>\n",
       "      <th>7</th>\n",
       "      <td>8</td>\n",
       "      <td>0.939</td>\n",
       "      <td>0.928</td>\n",
       "    </tr>\n",
       "    <tr>\n",
       "      <th>8</th>\n",
       "      <td>9</td>\n",
       "      <td>0.940</td>\n",
       "      <td>0.929</td>\n",
       "    </tr>\n",
       "    <tr>\n",
       "      <th>9</th>\n",
       "      <td>10</td>\n",
       "      <td>0.941</td>\n",
       "      <td>0.934</td>\n",
       "    </tr>\n",
       "    <tr>\n",
       "      <th>10</th>\n",
       "      <td>11</td>\n",
       "      <td>0.942</td>\n",
       "      <td>0.937</td>\n",
       "    </tr>\n",
       "    <tr>\n",
       "      <th>11</th>\n",
       "      <td>12</td>\n",
       "      <td>0.944</td>\n",
       "      <td>0.937</td>\n",
       "    </tr>\n",
       "    <tr>\n",
       "      <th>12</th>\n",
       "      <td>13</td>\n",
       "      <td>0.946</td>\n",
       "      <td>0.939</td>\n",
       "    </tr>\n",
       "    <tr>\n",
       "      <th>13</th>\n",
       "      <td>14</td>\n",
       "      <td>0.948</td>\n",
       "      <td>0.941</td>\n",
       "    </tr>\n",
       "    <tr>\n",
       "      <th>14</th>\n",
       "      <td>15</td>\n",
       "      <td>0.948</td>\n",
       "      <td>0.941</td>\n",
       "    </tr>\n",
       "  </tbody>\n",
       "</table>\n",
       "</div>"
      ],
      "text/plain": [
       "     C  TrainAccuracy  TestAccuracy\n",
       "0    1          0.907         0.910\n",
       "1    2          0.908         0.911\n",
       "2    3          0.921         0.914\n",
       "3    4          0.930         0.920\n",
       "4    5          0.933         0.925\n",
       "5    6          0.936         0.925\n",
       "6    7          0.937         0.927\n",
       "7    8          0.939         0.928\n",
       "8    9          0.940         0.929\n",
       "9   10          0.941         0.934\n",
       "10  11          0.942         0.937\n",
       "11  12          0.944         0.937\n",
       "12  13          0.946         0.939\n",
       "13  14          0.948         0.941\n",
       "14  15          0.948         0.941"
      ]
     },
     "execution_count": 21,
     "metadata": {},
     "output_type": "execute_result"
    }
   ],
   "source": [
    "# svm\n",
    "train_accuracy = []\n",
    "test_accuracy = []\n",
    "para_C = []\n",
    "for C in range(15):\n",
    "    svm1_scaled = SVC(C= (C+1)/10, random_state = 1234)\n",
    "    svm1_scaled.fit(df_hmeq_train_x_scaled,df_hmeq_train_y)\n",
    "    para_C.append(C+1)\n",
    "    train_accuracy.append(svm1_scaled.score(df_hmeq_train_x_scaled,df_hmeq_train_y))\n",
    "    test_accuracy.append(svm1_scaled.score(df_hmeq_test_x_scaled,df_hmeq_test_y))\n",
    "\n",
    "df_accuracy1_scaled = pd.DataFrame()\n",
    "df_accuracy1_scaled[\"C\"] = para_C\n",
    "df_accuracy1_scaled[\"TrainAccuracy\"] = train_accuracy\n",
    "df_accuracy1_scaled[\"TestAccuracy\"] = test_accuracy\n",
    "df_accuracy1_scaled.round(3)"
   ]
  },
  {
   "cell_type": "code",
   "execution_count": 22,
   "metadata": {},
   "outputs": [
    {
     "data": {
      "text/plain": [
       "<matplotlib.axes._subplots.AxesSubplot at 0x7fd70693fdd8>"
      ]
     },
     "execution_count": 22,
     "metadata": {},
     "output_type": "execute_result"
    },
    {
     "data": {
      "image/png": "[encoded data removed]",
      "text/plain": [
       "<Figure size 432x288 with 1 Axes>"
      ]
     },
     "metadata": {
      "needs_background": "light"
     },
     "output_type": "display_data"
    }
   ],
   "source": [
    "df_accuracy1_scaled.set_index(\"C\",inplace = False).plot.line()"
   ]
  },
  {
   "cell_type": "code",
   "execution_count": 23,
   "metadata": {},
   "outputs": [],
   "source": [
    "train_accuracy = []\n",
    "test_accuracy = []\n",
    "para_gamma = []\n",
    "\n",
    "for gamma in range(1,10):\n",
    "    svm2_scaled = SVC(gamma = gamma/10, random_state = 1234)\n",
    "    svm2_scaled.fit(df_hmeq_train_x_scaled,df_hmeq_train_y)\n",
    "    para_gamma.append(gamma/10)\n",
    "    train_accuracy.append(svm2_scaled.score(df_hmeq_train_x_scaled,df_hmeq_train_y))\n",
    "    test_accuracy.append(svm2_scaled.score(df_hmeq_test_x_scaled,df_hmeq_test_y)) \n",
    "\n",
    "df_accuracy2_scaled = pd.DataFrame()\n",
    "df_accuracy2_scaled[\"Gamma\"] = para_gamma\n",
    "df_accuracy2_scaled[\"TrainAccuracy\"] = train_accuracy\n",
    "df_accuracy2_scaled[\"TestAccuracy\"] = test_accuracy\n"
   ]
  },
  {
   "cell_type": "code",
   "execution_count": 24,
   "metadata": {},
   "outputs": [
    {
     "data": {
      "text/html": [
       "<div>\n",
       "<style scoped>\n",
       "    .dataframe tbody tr th:only-of-type {\n",
       "        vertical-align: middle;\n",
       "    }\n",
       "\n",
       "    .dataframe tbody tr th {\n",
       "        vertical-align: top;\n",
       "    }\n",
       "\n",
       "    .dataframe thead th {\n",
       "        text-align: right;\n",
       "    }\n",
       "</style>\n",
       "<table border=\"1\" class=\"dataframe\">\n",
       "  <thead>\n",
       "    <tr style=\"text-align: right;\">\n",
       "      <th></th>\n",
       "      <th>Gamma</th>\n",
       "      <th>TrainAccuracy</th>\n",
       "      <th>TestAccuracy</th>\n",
       "    </tr>\n",
       "  </thead>\n",
       "  <tbody>\n",
       "    <tr>\n",
       "      <th>0</th>\n",
       "      <td>0.1</td>\n",
       "      <td>0.956605</td>\n",
       "      <td>0.941434</td>\n",
       "    </tr>\n",
       "    <tr>\n",
       "      <th>1</th>\n",
       "      <td>0.2</td>\n",
       "      <td>0.969662</td>\n",
       "      <td>0.930944</td>\n",
       "    </tr>\n",
       "    <tr>\n",
       "      <th>2</th>\n",
       "      <td>0.3</td>\n",
       "      <td>0.977727</td>\n",
       "      <td>0.922203</td>\n",
       "    </tr>\n",
       "    <tr>\n",
       "      <th>3</th>\n",
       "      <td>0.4</td>\n",
       "      <td>0.980799</td>\n",
       "      <td>0.920455</td>\n",
       "    </tr>\n",
       "    <tr>\n",
       "      <th>4</th>\n",
       "      <td>0.5</td>\n",
       "      <td>0.984639</td>\n",
       "      <td>0.919580</td>\n",
       "    </tr>\n",
       "    <tr>\n",
       "      <th>5</th>\n",
       "      <td>0.6</td>\n",
       "      <td>0.986943</td>\n",
       "      <td>0.919580</td>\n",
       "    </tr>\n",
       "    <tr>\n",
       "      <th>6</th>\n",
       "      <td>0.7</td>\n",
       "      <td>0.988863</td>\n",
       "      <td>0.919580</td>\n",
       "    </tr>\n",
       "    <tr>\n",
       "      <th>7</th>\n",
       "      <td>0.8</td>\n",
       "      <td>0.990783</td>\n",
       "      <td>0.918706</td>\n",
       "    </tr>\n",
       "    <tr>\n",
       "      <th>8</th>\n",
       "      <td>0.9</td>\n",
       "      <td>0.992320</td>\n",
       "      <td>0.918706</td>\n",
       "    </tr>\n",
       "  </tbody>\n",
       "</table>\n",
       "</div>"
      ],
      "text/plain": [
       "   Gamma  TrainAccuracy  TestAccuracy\n",
       "0    0.1       0.956605      0.941434\n",
       "1    0.2       0.969662      0.930944\n",
       "2    0.3       0.977727      0.922203\n",
       "3    0.4       0.980799      0.920455\n",
       "4    0.5       0.984639      0.919580\n",
       "5    0.6       0.986943      0.919580\n",
       "6    0.7       0.988863      0.919580\n",
       "7    0.8       0.990783      0.918706\n",
       "8    0.9       0.992320      0.918706"
      ]
     },
     "execution_count": 24,
     "metadata": {},
     "output_type": "execute_result"
    }
   ],
   "source": [
    "df_accuracy2_scaled"
   ]
  },
  {
   "cell_type": "code",
   "execution_count": 25,
   "metadata": {},
   "outputs": [
    {
     "data": {
      "text/plain": [
       "<matplotlib.axes._subplots.AxesSubplot at 0x7fd707173da0>"
      ]
     },
     "execution_count": 25,
     "metadata": {},
     "output_type": "execute_result"
    },
    {
     "data": {
      "image/png": "[encoded data removed]",
      "text/plain": [
       "<Figure size 432x288 with 1 Axes>"
      ]
     },
     "metadata": {
      "needs_background": "light"
     },
     "output_type": "display_data"
    }
   ],
   "source": [
    "df_accuracy2_scaled.set_index(\"Gamma\",inplace = False).plot.line()"
   ]
  },
  {
   "cell_type": "code",
   "execution_count": 28,
   "metadata": {},
   "outputs": [
    {
     "name": "stdout",
     "output_type": "stream",
     "text": [
      "train accuracy = 0.999\n",
      "test accuracy = 0.934\n"
     ]
    }
   ],
   "source": [
    "svm3 = SVC(C = 10, gamma = 0.4, random_state = 1234)\n",
    "svm3.fit(df_hmeq_train_x_scaled,df_hmeq_train_y)\n",
    "\n",
    "train_accuracy =svm3.score(df_hmeq_train_x_scaled,df_hmeq_train_y)\n",
    "test_accuracy = svm3.score(df_hmeq_test_x_scaled,df_hmeq_test_y)\n",
    "\n",
    "print(\"train accuracy = {:.3fx_test_scaled}\".format(train_accuracy))\n",
    "print(\"test accuracy = {:.3f}\".format(test_accuracy))\n"
   ]
  },
  {
   "cell_type": "code",
   "execution_count": null,
   "metadata": {},
   "outputs": [],
   "source": []
  }
 ],
 "metadata": {
  "kernelspec": {
   "display_name": "Python 3",
   "language": "python",
   "name": "python3"
  },
  "language_info": {
   "codemirror_mode": {
    "name": "ipython",
    "version": 3
   },
   "file_extension": ".py",
   "mimetype": "text/x-python",
   "name": "python",
   "nbconvert_exporter": "python",
   "pygments_lexer": "ipython3",
   "version": "3.7.1"
  }
 },
 "nbformat": 4,
 "nbformat_minor": 2
}
